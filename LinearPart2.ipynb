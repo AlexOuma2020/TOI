{
  "cells": [
    {
      "cell_type": "markdown",
      "metadata": {
        "id": "4502410d-d5d8-46f3-8923-fe83f4cbd2b1"
      },
      "source": [
        "## Задача регрессии, линейная модель прогнозирования"
      ],
      "id": "4502410d-d5d8-46f3-8923-fe83f4cbd2b1"
    },
    {
      "cell_type": "code",
      "execution_count": null,
      "metadata": {
        "id": "cb107826-365d-4f18-b37c-a1cc1e35e8d5"
      },
      "outputs": [],
      "source": [
        "import numpy as np\n",
        "import pandas as pd\n",
        "\n",
        "%matplotlib inline\n",
        "import matplotlib.pyplot as plt\n",
        "import seaborn as sns"
      ],
      "id": "cb107826-365d-4f18-b37c-a1cc1e35e8d5"
    },
    {
      "cell_type": "markdown",
      "metadata": {
        "id": "57bcfffd-eee8-4840-94cb-aeb6ac53b2da"
      },
      "source": [
        "В этом задании мы будем искать, как параметры квартиры влияют на цену квартиры в Бостоне\n",
        "\n",
        "Делать это будем с помощью обучения линейной регрессии"
      ],
      "id": "57bcfffd-eee8-4840-94cb-aeb6ac53b2da"
    },
    {
      "cell_type": "markdown",
      "metadata": {
        "id": "Rsn--8GOB4da"
      },
      "source": [
        "Но для начала, чуть подробнее посмотрим, что такое линейная регрессия.\n",
        "\n",
        "Создадим два массива, один с ростом человека, другой с весом."
      ],
      "id": "Rsn--8GOB4da"
    },
    {
      "cell_type": "code",
      "execution_count": null,
      "metadata": {
        "id": "222db6ee-c16b-4439-980c-c9b23dfc857d"
      },
      "outputs": [],
      "source": [
        "# Создаем выборку\n",
        "x = np.array([70, 75, 81]) # вес человека\n",
        "y_true = np.array([170, 180, 190]) # предсказывать будем рост"
      ],
      "id": "222db6ee-c16b-4439-980c-c9b23dfc857d"
    },
    {
      "cell_type": "markdown",
      "metadata": {
        "id": "ZH903YnE5jRC"
      },
      "source": [
        "Предполагается что человек весом 70кг имеет рост 170см. и т.д."
      ],
      "id": "ZH903YnE5jRC"
    },
    {
      "cell_type": "code",
      "execution_count": null,
      "metadata": {
        "colab": {
          "base_uri": "https://localhost:8080/"
        },
        "id": "a7d82a2d-e9bc-4c87-9823-0cb74c1a3bfc",
        "outputId": "17248e65-ae4a-4d13-b5d2-cf64247a9e5c"
      },
      "outputs": [
        {
          "output_type": "execute_result",
          "data": {
            "text/plain": [
              "array([170, 180, 190])"
            ]
          },
          "metadata": {},
          "execution_count": 187
        }
      ],
      "source": [
        "y_true"
      ],
      "id": "a7d82a2d-e9bc-4c87-9823-0cb74c1a3bfc"
    },
    {
      "cell_type": "markdown",
      "metadata": {
        "id": "PvDkAW7t6iB7"
      },
      "source": [
        "Предположим наш алгоритм как то обучился и мы получили ` w = 3`  "
      ],
      "id": "PvDkAW7t6iB7"
    },
    {
      "cell_type": "code",
      "execution_count": null,
      "metadata": {
        "id": "c5b9767e-75e7-4147-8204-47813e65e9e4"
      },
      "outputs": [],
      "source": [
        "weight = 3"
      ],
      "id": "c5b9767e-75e7-4147-8204-47813e65e9e4"
    },
    {
      "cell_type": "markdown",
      "metadata": {
        "id": "4c0c8375-8467-467a-bf9c-65ff288244c4"
      },
      "source": [
        "Функция потерь"
      ],
      "id": "4c0c8375-8467-467a-bf9c-65ff288244c4"
    },
    {
      "cell_type": "code",
      "execution_count": null,
      "metadata": {
        "colab": {
          "base_uri": "https://localhost:8080/"
        },
        "id": "16d91c15-c0f3-4869-a287-f67affc69ae6",
        "outputId": "e725d648-1173-4ad8-84c9-c723848d0acd"
      },
      "outputs": [
        {
          "output_type": "execute_result",
          "data": {
            "text/plain": [
              "1600"
            ]
          },
          "metadata": {},
          "execution_count": 189
        }
      ],
      "source": [
        "(70 * 3 - 170) ** 2"
      ],
      "id": "16d91c15-c0f3-4869-a287-f67affc69ae6"
    },
    {
      "cell_type": "markdown",
      "metadata": {
        "id": "Y8D2upcb66Mw"
      },
      "source": [
        "Посмотрим, что предскажет наш алгоритм для первого элемента исходных данных"
      ],
      "id": "Y8D2upcb66Mw"
    },
    {
      "cell_type": "code",
      "execution_count": null,
      "metadata": {
        "colab": {
          "base_uri": "https://localhost:8080/"
        },
        "id": "febd3f3b-8035-44b0-a24f-fabeb525ba00",
        "outputId": "e8bcebb5-e565-48dc-f38d-00a717beded3"
      },
      "outputs": [
        {
          "output_type": "execute_result",
          "data": {
            "text/plain": [
              "210"
            ]
          },
          "metadata": {},
          "execution_count": 190
        }
      ],
      "source": [
        "x[0] * weight # Ответ нашего алгоритма"
      ],
      "id": "febd3f3b-8035-44b0-a24f-fabeb525ba00"
    },
    {
      "cell_type": "code",
      "execution_count": null,
      "metadata": {
        "id": "223dbe63-5b1e-4819-8d3e-a5de13d39452"
      },
      "outputs": [],
      "source": [
        "def mse(x, y, w):\n",
        "    return ((x * w - y)**2).mean()"
      ],
      "id": "223dbe63-5b1e-4819-8d3e-a5de13d39452"
    },
    {
      "cell_type": "code",
      "execution_count": null,
      "metadata": {
        "colab": {
          "base_uri": "https://localhost:8080/"
        },
        "id": "2d104160-9c22-4354-840a-159cb6720ef2",
        "outputId": "861031b6-46b0-47a8-f267-e5a1dab72b2a"
      },
      "outputs": [
        {
          "output_type": "execute_result",
          "data": {
            "text/plain": [
              "2144.6666666666665"
            ]
          },
          "metadata": {},
          "execution_count": 192
        }
      ],
      "source": [
        "mse(x, y_true, weight)"
      ],
      "id": "2d104160-9c22-4354-840a-159cb6720ef2"
    },
    {
      "cell_type": "code",
      "source": [
        "mse(x, y_true, 2)"
      ],
      "metadata": {
        "colab": {
          "base_uri": "https://localhost:8080/"
        },
        "id": "PQSFcypXPNmg",
        "outputId": "4d679eae-8afa-4cf2-b52d-b4c25712dc61"
      },
      "id": "PQSFcypXPNmg",
      "execution_count": null,
      "outputs": [
        {
          "output_type": "execute_result",
          "data": {
            "text/plain": [
              "861.3333333333334"
            ]
          },
          "metadata": {},
          "execution_count": 193
        }
      ]
    },
    {
      "cell_type": "code",
      "source": [
        "mse(x, y_true, 2.38)"
      ],
      "metadata": {
        "colab": {
          "base_uri": "https://localhost:8080/"
        },
        "id": "EjHtCWpNPNvB",
        "outputId": "eb299a02-a4f8-4ce3-c1e6-8332894dfd73"
      },
      "id": "EjHtCWpNPNvB",
      "execution_count": null,
      "outputs": [
        {
          "output_type": "execute_result",
          "data": {
            "text/plain": [
              "7.1794666666666815"
            ]
          },
          "metadata": {},
          "execution_count": 194
        }
      ]
    },
    {
      "cell_type": "markdown",
      "source": [
        "Напишите фунцию потерь на основе формулы и приведите ее к минимуму изменяя `weight`"
      ],
      "metadata": {
        "id": "qfrNk8P9BEkL"
      },
      "id": "qfrNk8P9BEkL"
    },
    {
      "cell_type": "markdown",
      "metadata": {
        "id": "948f2262-a8c4-4516-9d5a-fc030900aeba"
      },
      "source": [
        "Данные: https://www.cs.toronto.edu/~delve/data/boston/bostonDetail.html"
      ],
      "id": "948f2262-a8c4-4516-9d5a-fc030900aeba"
    },
    {
      "cell_type": "code",
      "execution_count": null,
      "metadata": {
        "colab": {
          "base_uri": "https://localhost:8080/"
        },
        "id": "570cf586-67e9-45d7-8f35-0330af455523",
        "outputId": "b2effe0e-904b-4c03-8b94-703fa629ba36"
      },
      "outputs": [
        {
          "output_type": "stream",
          "name": "stderr",
          "text": [
            "/usr/local/lib/python3.7/dist-packages/sklearn/utils/deprecation.py:87: FutureWarning: Function load_boston is deprecated; `load_boston` is deprecated in 1.0 and will be removed in 1.2.\n",
            "\n",
            "    The Boston housing prices dataset has an ethical problem. You can refer to\n",
            "    the documentation of this function for further details.\n",
            "\n",
            "    The scikit-learn maintainers therefore strongly discourage the use of this\n",
            "    dataset unless the purpose of the code is to study and educate about\n",
            "    ethical issues in data science and machine learning.\n",
            "\n",
            "    In this special case, you can fetch the dataset from the original\n",
            "    source::\n",
            "\n",
            "        import pandas as pd\n",
            "        import numpy as np\n",
            "\n",
            "\n",
            "        data_url = \"http://lib.stat.cmu.edu/datasets/boston\"\n",
            "        raw_df = pd.read_csv(data_url, sep=\"\\s+\", skiprows=22, header=None)\n",
            "        data = np.hstack([raw_df.values[::2, :], raw_df.values[1::2, :2]])\n",
            "        target = raw_df.values[1::2, 2]\n",
            "\n",
            "    Alternative datasets include the California housing dataset (i.e.\n",
            "    :func:`~sklearn.datasets.fetch_california_housing`) and the Ames housing\n",
            "    dataset. You can load the datasets as follows::\n",
            "\n",
            "        from sklearn.datasets import fetch_california_housing\n",
            "        housing = fetch_california_housing()\n",
            "\n",
            "    for the California housing dataset and::\n",
            "\n",
            "        from sklearn.datasets import fetch_openml\n",
            "        housing = fetch_openml(name=\"house_prices\", as_frame=True)\n",
            "\n",
            "    for the Ames housing dataset.\n",
            "    \n",
            "  warnings.warn(msg, category=FutureWarning)\n"
          ]
        }
      ],
      "source": [
        "from sklearn.datasets import load_boston\n",
        "\n",
        "boston_data = load_boston()"
      ],
      "id": "570cf586-67e9-45d7-8f35-0330af455523"
    },
    {
      "cell_type": "code",
      "execution_count": null,
      "metadata": {
        "colab": {
          "base_uri": "https://localhost:8080/"
        },
        "id": "bf1bac6e-624a-44ae-9a4c-bb814f7ca229",
        "outputId": "a63ed636-8e25-489a-a19e-39e0feaa7528"
      },
      "outputs": [
        {
          "output_type": "execute_result",
          "data": {
            "text/plain": [
              "sklearn.utils.Bunch"
            ]
          },
          "metadata": {},
          "execution_count": 196
        }
      ],
      "source": [
        "type(boston_data)"
      ],
      "id": "bf1bac6e-624a-44ae-9a4c-bb814f7ca229"
    },
    {
      "cell_type": "code",
      "execution_count": null,
      "metadata": {
        "colab": {
          "base_uri": "https://localhost:8080/"
        },
        "id": "e96c30c6-453f-4652-af45-e00788606545",
        "outputId": "be426f21-c430-43d4-ffe1-917c321249aa"
      },
      "outputs": [
        {
          "output_type": "execute_result",
          "data": {
            "text/plain": [
              "{'data': array([[6.3200e-03, 1.8000e+01, 2.3100e+00, ..., 1.5300e+01, 3.9690e+02,\n",
              "         4.9800e+00],\n",
              "        [2.7310e-02, 0.0000e+00, 7.0700e+00, ..., 1.7800e+01, 3.9690e+02,\n",
              "         9.1400e+00],\n",
              "        [2.7290e-02, 0.0000e+00, 7.0700e+00, ..., 1.7800e+01, 3.9283e+02,\n",
              "         4.0300e+00],\n",
              "        ...,\n",
              "        [6.0760e-02, 0.0000e+00, 1.1930e+01, ..., 2.1000e+01, 3.9690e+02,\n",
              "         5.6400e+00],\n",
              "        [1.0959e-01, 0.0000e+00, 1.1930e+01, ..., 2.1000e+01, 3.9345e+02,\n",
              "         6.4800e+00],\n",
              "        [4.7410e-02, 0.0000e+00, 1.1930e+01, ..., 2.1000e+01, 3.9690e+02,\n",
              "         7.8800e+00]]),\n",
              " 'target': array([24. , 21.6, 34.7, 33.4, 36.2, 28.7, 22.9, 27.1, 16.5, 18.9, 15. ,\n",
              "        18.9, 21.7, 20.4, 18.2, 19.9, 23.1, 17.5, 20.2, 18.2, 13.6, 19.6,\n",
              "        15.2, 14.5, 15.6, 13.9, 16.6, 14.8, 18.4, 21. , 12.7, 14.5, 13.2,\n",
              "        13.1, 13.5, 18.9, 20. , 21. , 24.7, 30.8, 34.9, 26.6, 25.3, 24.7,\n",
              "        21.2, 19.3, 20. , 16.6, 14.4, 19.4, 19.7, 20.5, 25. , 23.4, 18.9,\n",
              "        35.4, 24.7, 31.6, 23.3, 19.6, 18.7, 16. , 22.2, 25. , 33. , 23.5,\n",
              "        19.4, 22. , 17.4, 20.9, 24.2, 21.7, 22.8, 23.4, 24.1, 21.4, 20. ,\n",
              "        20.8, 21.2, 20.3, 28. , 23.9, 24.8, 22.9, 23.9, 26.6, 22.5, 22.2,\n",
              "        23.6, 28.7, 22.6, 22. , 22.9, 25. , 20.6, 28.4, 21.4, 38.7, 43.8,\n",
              "        33.2, 27.5, 26.5, 18.6, 19.3, 20.1, 19.5, 19.5, 20.4, 19.8, 19.4,\n",
              "        21.7, 22.8, 18.8, 18.7, 18.5, 18.3, 21.2, 19.2, 20.4, 19.3, 22. ,\n",
              "        20.3, 20.5, 17.3, 18.8, 21.4, 15.7, 16.2, 18. , 14.3, 19.2, 19.6,\n",
              "        23. , 18.4, 15.6, 18.1, 17.4, 17.1, 13.3, 17.8, 14. , 14.4, 13.4,\n",
              "        15.6, 11.8, 13.8, 15.6, 14.6, 17.8, 15.4, 21.5, 19.6, 15.3, 19.4,\n",
              "        17. , 15.6, 13.1, 41.3, 24.3, 23.3, 27. , 50. , 50. , 50. , 22.7,\n",
              "        25. , 50. , 23.8, 23.8, 22.3, 17.4, 19.1, 23.1, 23.6, 22.6, 29.4,\n",
              "        23.2, 24.6, 29.9, 37.2, 39.8, 36.2, 37.9, 32.5, 26.4, 29.6, 50. ,\n",
              "        32. , 29.8, 34.9, 37. , 30.5, 36.4, 31.1, 29.1, 50. , 33.3, 30.3,\n",
              "        34.6, 34.9, 32.9, 24.1, 42.3, 48.5, 50. , 22.6, 24.4, 22.5, 24.4,\n",
              "        20. , 21.7, 19.3, 22.4, 28.1, 23.7, 25. , 23.3, 28.7, 21.5, 23. ,\n",
              "        26.7, 21.7, 27.5, 30.1, 44.8, 50. , 37.6, 31.6, 46.7, 31.5, 24.3,\n",
              "        31.7, 41.7, 48.3, 29. , 24. , 25.1, 31.5, 23.7, 23.3, 22. , 20.1,\n",
              "        22.2, 23.7, 17.6, 18.5, 24.3, 20.5, 24.5, 26.2, 24.4, 24.8, 29.6,\n",
              "        42.8, 21.9, 20.9, 44. , 50. , 36. , 30.1, 33.8, 43.1, 48.8, 31. ,\n",
              "        36.5, 22.8, 30.7, 50. , 43.5, 20.7, 21.1, 25.2, 24.4, 35.2, 32.4,\n",
              "        32. , 33.2, 33.1, 29.1, 35.1, 45.4, 35.4, 46. , 50. , 32.2, 22. ,\n",
              "        20.1, 23.2, 22.3, 24.8, 28.5, 37.3, 27.9, 23.9, 21.7, 28.6, 27.1,\n",
              "        20.3, 22.5, 29. , 24.8, 22. , 26.4, 33.1, 36.1, 28.4, 33.4, 28.2,\n",
              "        22.8, 20.3, 16.1, 22.1, 19.4, 21.6, 23.8, 16.2, 17.8, 19.8, 23.1,\n",
              "        21. , 23.8, 23.1, 20.4, 18.5, 25. , 24.6, 23. , 22.2, 19.3, 22.6,\n",
              "        19.8, 17.1, 19.4, 22.2, 20.7, 21.1, 19.5, 18.5, 20.6, 19. , 18.7,\n",
              "        32.7, 16.5, 23.9, 31.2, 17.5, 17.2, 23.1, 24.5, 26.6, 22.9, 24.1,\n",
              "        18.6, 30.1, 18.2, 20.6, 17.8, 21.7, 22.7, 22.6, 25. , 19.9, 20.8,\n",
              "        16.8, 21.9, 27.5, 21.9, 23.1, 50. , 50. , 50. , 50. , 50. , 13.8,\n",
              "        13.8, 15. , 13.9, 13.3, 13.1, 10.2, 10.4, 10.9, 11.3, 12.3,  8.8,\n",
              "         7.2, 10.5,  7.4, 10.2, 11.5, 15.1, 23.2,  9.7, 13.8, 12.7, 13.1,\n",
              "        12.5,  8.5,  5. ,  6.3,  5.6,  7.2, 12.1,  8.3,  8.5,  5. , 11.9,\n",
              "        27.9, 17.2, 27.5, 15. , 17.2, 17.9, 16.3,  7. ,  7.2,  7.5, 10.4,\n",
              "         8.8,  8.4, 16.7, 14.2, 20.8, 13.4, 11.7,  8.3, 10.2, 10.9, 11. ,\n",
              "         9.5, 14.5, 14.1, 16.1, 14.3, 11.7, 13.4,  9.6,  8.7,  8.4, 12.8,\n",
              "        10.5, 17.1, 18.4, 15.4, 10.8, 11.8, 14.9, 12.6, 14.1, 13. , 13.4,\n",
              "        15.2, 16.1, 17.8, 14.9, 14.1, 12.7, 13.5, 14.9, 20. , 16.4, 17.7,\n",
              "        19.5, 20.2, 21.4, 19.9, 19. , 19.1, 19.1, 20.1, 19.9, 19.6, 23.2,\n",
              "        29.8, 13.8, 13.3, 16.7, 12. , 14.6, 21.4, 23. , 23.7, 25. , 21.8,\n",
              "        20.6, 21.2, 19.1, 20.6, 15.2,  7. ,  8.1, 13.6, 20.1, 21.8, 24.5,\n",
              "        23.1, 19.7, 18.3, 21.2, 17.5, 16.8, 22.4, 20.6, 23.9, 22. , 11.9]),\n",
              " 'feature_names': array(['CRIM', 'ZN', 'INDUS', 'CHAS', 'NOX', 'RM', 'AGE', 'DIS', 'RAD',\n",
              "        'TAX', 'PTRATIO', 'B', 'LSTAT'], dtype='<U7'),\n",
              " 'DESCR': \".. _boston_dataset:\\n\\nBoston house prices dataset\\n---------------------------\\n\\n**Data Set Characteristics:**  \\n\\n    :Number of Instances: 506 \\n\\n    :Number of Attributes: 13 numeric/categorical predictive. Median Value (attribute 14) is usually the target.\\n\\n    :Attribute Information (in order):\\n        - CRIM     per capita crime rate by town\\n        - ZN       proportion of residential land zoned for lots over 25,000 sq.ft.\\n        - INDUS    proportion of non-retail business acres per town\\n        - CHAS     Charles River dummy variable (= 1 if tract bounds river; 0 otherwise)\\n        - NOX      nitric oxides concentration (parts per 10 million)\\n        - RM       average number of rooms per dwelling\\n        - AGE      proportion of owner-occupied units built prior to 1940\\n        - DIS      weighted distances to five Boston employment centres\\n        - RAD      index of accessibility to radial highways\\n        - TAX      full-value property-tax rate per $10,000\\n        - PTRATIO  pupil-teacher ratio by town\\n        - B        1000(Bk - 0.63)^2 where Bk is the proportion of black people by town\\n        - LSTAT    % lower status of the population\\n        - MEDV     Median value of owner-occupied homes in $1000's\\n\\n    :Missing Attribute Values: None\\n\\n    :Creator: Harrison, D. and Rubinfeld, D.L.\\n\\nThis is a copy of UCI ML housing dataset.\\nhttps://archive.ics.uci.edu/ml/machine-learning-databases/housing/\\n\\n\\nThis dataset was taken from the StatLib library which is maintained at Carnegie Mellon University.\\n\\nThe Boston house-price data of Harrison, D. and Rubinfeld, D.L. 'Hedonic\\nprices and the demand for clean air', J. Environ. Economics & Management,\\nvol.5, 81-102, 1978.   Used in Belsley, Kuh & Welsch, 'Regression diagnostics\\n...', Wiley, 1980.   N.B. Various transformations are used in the table on\\npages 244-261 of the latter.\\n\\nThe Boston house-price data has been used in many machine learning papers that address regression\\nproblems.   \\n     \\n.. topic:: References\\n\\n   - Belsley, Kuh & Welsch, 'Regression diagnostics: Identifying Influential Data and Sources of Collinearity', Wiley, 1980. 244-261.\\n   - Quinlan,R. (1993). Combining Instance-Based and Model-Based Learning. In Proceedings on the Tenth International Conference of Machine Learning, 236-243, University of Massachusetts, Amherst. Morgan Kaufmann.\\n\",\n",
              " 'filename': 'boston_house_prices.csv',\n",
              " 'data_module': 'sklearn.datasets.data'}"
            ]
          },
          "metadata": {},
          "execution_count": 197
        }
      ],
      "source": [
        "boston_data"
      ],
      "id": "e96c30c6-453f-4652-af45-e00788606545"
    },
    {
      "cell_type": "code",
      "execution_count": null,
      "metadata": {
        "id": "1abdbaf6-4d44-49bc-8737-c317f844fd04",
        "colab": {
          "base_uri": "https://localhost:8080/",
          "height": 424
        },
        "outputId": "dff71fa1-d3f1-41d3-f8af-1643c8ee586c"
      },
      "outputs": [
        {
          "output_type": "execute_result",
          "data": {
            "text/plain": [
              "        CRIM    ZN  INDUS  CHAS    NOX     RM   AGE     DIS  RAD    TAX  \\\n",
              "0    0.00632  18.0   2.31   0.0  0.538  6.575  65.2  4.0900  1.0  296.0   \n",
              "1    0.02731   0.0   7.07   0.0  0.469  6.421  78.9  4.9671  2.0  242.0   \n",
              "2    0.02729   0.0   7.07   0.0  0.469  7.185  61.1  4.9671  2.0  242.0   \n",
              "3    0.03237   0.0   2.18   0.0  0.458  6.998  45.8  6.0622  3.0  222.0   \n",
              "4    0.06905   0.0   2.18   0.0  0.458  7.147  54.2  6.0622  3.0  222.0   \n",
              "..       ...   ...    ...   ...    ...    ...   ...     ...  ...    ...   \n",
              "501  0.06263   0.0  11.93   0.0  0.573  6.593  69.1  2.4786  1.0  273.0   \n",
              "502  0.04527   0.0  11.93   0.0  0.573  6.120  76.7  2.2875  1.0  273.0   \n",
              "503  0.06076   0.0  11.93   0.0  0.573  6.976  91.0  2.1675  1.0  273.0   \n",
              "504  0.10959   0.0  11.93   0.0  0.573  6.794  89.3  2.3889  1.0  273.0   \n",
              "505  0.04741   0.0  11.93   0.0  0.573  6.030  80.8  2.5050  1.0  273.0   \n",
              "\n",
              "     PTRATIO       B  LSTAT  \n",
              "0       15.3  396.90   4.98  \n",
              "1       17.8  396.90   9.14  \n",
              "2       17.8  392.83   4.03  \n",
              "3       18.7  394.63   2.94  \n",
              "4       18.7  396.90   5.33  \n",
              "..       ...     ...    ...  \n",
              "501     21.0  391.99   9.67  \n",
              "502     21.0  396.90   9.08  \n",
              "503     21.0  396.90   5.64  \n",
              "504     21.0  393.45   6.48  \n",
              "505     21.0  396.90   7.88  \n",
              "\n",
              "[506 rows x 13 columns]"
            ],
            "text/html": [
              "\n",
              "  <div id=\"df-0b240109-b59c-4568-b638-b3637b2d2dac\">\n",
              "    <div class=\"colab-df-container\">\n",
              "      <div>\n",
              "<style scoped>\n",
              "    .dataframe tbody tr th:only-of-type {\n",
              "        vertical-align: middle;\n",
              "    }\n",
              "\n",
              "    .dataframe tbody tr th {\n",
              "        vertical-align: top;\n",
              "    }\n",
              "\n",
              "    .dataframe thead th {\n",
              "        text-align: right;\n",
              "    }\n",
              "</style>\n",
              "<table border=\"1\" class=\"dataframe\">\n",
              "  <thead>\n",
              "    <tr style=\"text-align: right;\">\n",
              "      <th></th>\n",
              "      <th>CRIM</th>\n",
              "      <th>ZN</th>\n",
              "      <th>INDUS</th>\n",
              "      <th>CHAS</th>\n",
              "      <th>NOX</th>\n",
              "      <th>RM</th>\n",
              "      <th>AGE</th>\n",
              "      <th>DIS</th>\n",
              "      <th>RAD</th>\n",
              "      <th>TAX</th>\n",
              "      <th>PTRATIO</th>\n",
              "      <th>B</th>\n",
              "      <th>LSTAT</th>\n",
              "    </tr>\n",
              "  </thead>\n",
              "  <tbody>\n",
              "    <tr>\n",
              "      <th>0</th>\n",
              "      <td>0.00632</td>\n",
              "      <td>18.0</td>\n",
              "      <td>2.31</td>\n",
              "      <td>0.0</td>\n",
              "      <td>0.538</td>\n",
              "      <td>6.575</td>\n",
              "      <td>65.2</td>\n",
              "      <td>4.0900</td>\n",
              "      <td>1.0</td>\n",
              "      <td>296.0</td>\n",
              "      <td>15.3</td>\n",
              "      <td>396.90</td>\n",
              "      <td>4.98</td>\n",
              "    </tr>\n",
              "    <tr>\n",
              "      <th>1</th>\n",
              "      <td>0.02731</td>\n",
              "      <td>0.0</td>\n",
              "      <td>7.07</td>\n",
              "      <td>0.0</td>\n",
              "      <td>0.469</td>\n",
              "      <td>6.421</td>\n",
              "      <td>78.9</td>\n",
              "      <td>4.9671</td>\n",
              "      <td>2.0</td>\n",
              "      <td>242.0</td>\n",
              "      <td>17.8</td>\n",
              "      <td>396.90</td>\n",
              "      <td>9.14</td>\n",
              "    </tr>\n",
              "    <tr>\n",
              "      <th>2</th>\n",
              "      <td>0.02729</td>\n",
              "      <td>0.0</td>\n",
              "      <td>7.07</td>\n",
              "      <td>0.0</td>\n",
              "      <td>0.469</td>\n",
              "      <td>7.185</td>\n",
              "      <td>61.1</td>\n",
              "      <td>4.9671</td>\n",
              "      <td>2.0</td>\n",
              "      <td>242.0</td>\n",
              "      <td>17.8</td>\n",
              "      <td>392.83</td>\n",
              "      <td>4.03</td>\n",
              "    </tr>\n",
              "    <tr>\n",
              "      <th>3</th>\n",
              "      <td>0.03237</td>\n",
              "      <td>0.0</td>\n",
              "      <td>2.18</td>\n",
              "      <td>0.0</td>\n",
              "      <td>0.458</td>\n",
              "      <td>6.998</td>\n",
              "      <td>45.8</td>\n",
              "      <td>6.0622</td>\n",
              "      <td>3.0</td>\n",
              "      <td>222.0</td>\n",
              "      <td>18.7</td>\n",
              "      <td>394.63</td>\n",
              "      <td>2.94</td>\n",
              "    </tr>\n",
              "    <tr>\n",
              "      <th>4</th>\n",
              "      <td>0.06905</td>\n",
              "      <td>0.0</td>\n",
              "      <td>2.18</td>\n",
              "      <td>0.0</td>\n",
              "      <td>0.458</td>\n",
              "      <td>7.147</td>\n",
              "      <td>54.2</td>\n",
              "      <td>6.0622</td>\n",
              "      <td>3.0</td>\n",
              "      <td>222.0</td>\n",
              "      <td>18.7</td>\n",
              "      <td>396.90</td>\n",
              "      <td>5.33</td>\n",
              "    </tr>\n",
              "    <tr>\n",
              "      <th>...</th>\n",
              "      <td>...</td>\n",
              "      <td>...</td>\n",
              "      <td>...</td>\n",
              "      <td>...</td>\n",
              "      <td>...</td>\n",
              "      <td>...</td>\n",
              "      <td>...</td>\n",
              "      <td>...</td>\n",
              "      <td>...</td>\n",
              "      <td>...</td>\n",
              "      <td>...</td>\n",
              "      <td>...</td>\n",
              "      <td>...</td>\n",
              "    </tr>\n",
              "    <tr>\n",
              "      <th>501</th>\n",
              "      <td>0.06263</td>\n",
              "      <td>0.0</td>\n",
              "      <td>11.93</td>\n",
              "      <td>0.0</td>\n",
              "      <td>0.573</td>\n",
              "      <td>6.593</td>\n",
              "      <td>69.1</td>\n",
              "      <td>2.4786</td>\n",
              "      <td>1.0</td>\n",
              "      <td>273.0</td>\n",
              "      <td>21.0</td>\n",
              "      <td>391.99</td>\n",
              "      <td>9.67</td>\n",
              "    </tr>\n",
              "    <tr>\n",
              "      <th>502</th>\n",
              "      <td>0.04527</td>\n",
              "      <td>0.0</td>\n",
              "      <td>11.93</td>\n",
              "      <td>0.0</td>\n",
              "      <td>0.573</td>\n",
              "      <td>6.120</td>\n",
              "      <td>76.7</td>\n",
              "      <td>2.2875</td>\n",
              "      <td>1.0</td>\n",
              "      <td>273.0</td>\n",
              "      <td>21.0</td>\n",
              "      <td>396.90</td>\n",
              "      <td>9.08</td>\n",
              "    </tr>\n",
              "    <tr>\n",
              "      <th>503</th>\n",
              "      <td>0.06076</td>\n",
              "      <td>0.0</td>\n",
              "      <td>11.93</td>\n",
              "      <td>0.0</td>\n",
              "      <td>0.573</td>\n",
              "      <td>6.976</td>\n",
              "      <td>91.0</td>\n",
              "      <td>2.1675</td>\n",
              "      <td>1.0</td>\n",
              "      <td>273.0</td>\n",
              "      <td>21.0</td>\n",
              "      <td>396.90</td>\n",
              "      <td>5.64</td>\n",
              "    </tr>\n",
              "    <tr>\n",
              "      <th>504</th>\n",
              "      <td>0.10959</td>\n",
              "      <td>0.0</td>\n",
              "      <td>11.93</td>\n",
              "      <td>0.0</td>\n",
              "      <td>0.573</td>\n",
              "      <td>6.794</td>\n",
              "      <td>89.3</td>\n",
              "      <td>2.3889</td>\n",
              "      <td>1.0</td>\n",
              "      <td>273.0</td>\n",
              "      <td>21.0</td>\n",
              "      <td>393.45</td>\n",
              "      <td>6.48</td>\n",
              "    </tr>\n",
              "    <tr>\n",
              "      <th>505</th>\n",
              "      <td>0.04741</td>\n",
              "      <td>0.0</td>\n",
              "      <td>11.93</td>\n",
              "      <td>0.0</td>\n",
              "      <td>0.573</td>\n",
              "      <td>6.030</td>\n",
              "      <td>80.8</td>\n",
              "      <td>2.5050</td>\n",
              "      <td>1.0</td>\n",
              "      <td>273.0</td>\n",
              "      <td>21.0</td>\n",
              "      <td>396.90</td>\n",
              "      <td>7.88</td>\n",
              "    </tr>\n",
              "  </tbody>\n",
              "</table>\n",
              "<p>506 rows × 13 columns</p>\n",
              "</div>\n",
              "      <button class=\"colab-df-convert\" onclick=\"convertToInteractive('df-0b240109-b59c-4568-b638-b3637b2d2dac')\"\n",
              "              title=\"Convert this dataframe to an interactive table.\"\n",
              "              style=\"display:none;\">\n",
              "        \n",
              "  <svg xmlns=\"http://www.w3.org/2000/svg\" height=\"24px\"viewBox=\"0 0 24 24\"\n",
              "       width=\"24px\">\n",
              "    <path d=\"M0 0h24v24H0V0z\" fill=\"none\"/>\n",
              "    <path d=\"M18.56 5.44l.94 2.06.94-2.06 2.06-.94-2.06-.94-.94-2.06-.94 2.06-2.06.94zm-11 1L8.5 8.5l.94-2.06 2.06-.94-2.06-.94L8.5 2.5l-.94 2.06-2.06.94zm10 10l.94 2.06.94-2.06 2.06-.94-2.06-.94-.94-2.06-.94 2.06-2.06.94z\"/><path d=\"M17.41 7.96l-1.37-1.37c-.4-.4-.92-.59-1.43-.59-.52 0-1.04.2-1.43.59L10.3 9.45l-7.72 7.72c-.78.78-.78 2.05 0 2.83L4 21.41c.39.39.9.59 1.41.59.51 0 1.02-.2 1.41-.59l7.78-7.78 2.81-2.81c.8-.78.8-2.07 0-2.86zM5.41 20L4 18.59l7.72-7.72 1.47 1.35L5.41 20z\"/>\n",
              "  </svg>\n",
              "      </button>\n",
              "      \n",
              "  <style>\n",
              "    .colab-df-container {\n",
              "      display:flex;\n",
              "      flex-wrap:wrap;\n",
              "      gap: 12px;\n",
              "    }\n",
              "\n",
              "    .colab-df-convert {\n",
              "      background-color: #E8F0FE;\n",
              "      border: none;\n",
              "      border-radius: 50%;\n",
              "      cursor: pointer;\n",
              "      display: none;\n",
              "      fill: #1967D2;\n",
              "      height: 32px;\n",
              "      padding: 0 0 0 0;\n",
              "      width: 32px;\n",
              "    }\n",
              "\n",
              "    .colab-df-convert:hover {\n",
              "      background-color: #E2EBFA;\n",
              "      box-shadow: 0px 1px 2px rgba(60, 64, 67, 0.3), 0px 1px 3px 1px rgba(60, 64, 67, 0.15);\n",
              "      fill: #174EA6;\n",
              "    }\n",
              "\n",
              "    [theme=dark] .colab-df-convert {\n",
              "      background-color: #3B4455;\n",
              "      fill: #D2E3FC;\n",
              "    }\n",
              "\n",
              "    [theme=dark] .colab-df-convert:hover {\n",
              "      background-color: #434B5C;\n",
              "      box-shadow: 0px 1px 3px 1px rgba(0, 0, 0, 0.15);\n",
              "      filter: drop-shadow(0px 1px 2px rgba(0, 0, 0, 0.3));\n",
              "      fill: #FFFFFF;\n",
              "    }\n",
              "  </style>\n",
              "\n",
              "      <script>\n",
              "        const buttonEl =\n",
              "          document.querySelector('#df-0b240109-b59c-4568-b638-b3637b2d2dac button.colab-df-convert');\n",
              "        buttonEl.style.display =\n",
              "          google.colab.kernel.accessAllowed ? 'block' : 'none';\n",
              "\n",
              "        async function convertToInteractive(key) {\n",
              "          const element = document.querySelector('#df-0b240109-b59c-4568-b638-b3637b2d2dac');\n",
              "          const dataTable =\n",
              "            await google.colab.kernel.invokeFunction('convertToInteractive',\n",
              "                                                     [key], {});\n",
              "          if (!dataTable) return;\n",
              "\n",
              "          const docLinkHtml = 'Like what you see? Visit the ' +\n",
              "            '<a target=\"_blank\" href=https://colab.research.google.com/notebooks/data_table.ipynb>data table notebook</a>'\n",
              "            + ' to learn more about interactive tables.';\n",
              "          element.innerHTML = '';\n",
              "          dataTable['output_type'] = 'display_data';\n",
              "          await google.colab.output.renderOutput(dataTable, element);\n",
              "          const docLink = document.createElement('div');\n",
              "          docLink.innerHTML = docLinkHtml;\n",
              "          element.appendChild(docLink);\n",
              "        }\n",
              "      </script>\n",
              "    </div>\n",
              "  </div>\n",
              "  "
            ]
          },
          "metadata": {},
          "execution_count": 198
        }
      ],
      "source": [
        "X = pd.DataFrame(boston_data['data'], columns=boston_data['feature_names'])\n",
        "X"
      ],
      "id": "1abdbaf6-4d44-49bc-8737-c317f844fd04"
    },
    {
      "cell_type": "code",
      "execution_count": null,
      "metadata": {
        "id": "ffda55da-f459-4b8b-acfa-33b88af2b7b8",
        "colab": {
          "base_uri": "https://localhost:8080/"
        },
        "outputId": "f04adc60-2cc6-4d95-8ec1-83df8a695140"
      },
      "outputs": [
        {
          "output_type": "execute_result",
          "data": {
            "text/plain": [
              "array([24. , 21.6, 34.7, 33.4, 36.2, 28.7, 22.9, 27.1, 16.5, 18.9, 15. ,\n",
              "       18.9, 21.7, 20.4, 18.2, 19.9, 23.1, 17.5, 20.2, 18.2, 13.6, 19.6,\n",
              "       15.2, 14.5, 15.6, 13.9, 16.6, 14.8, 18.4, 21. , 12.7, 14.5, 13.2,\n",
              "       13.1, 13.5, 18.9, 20. , 21. , 24.7, 30.8, 34.9, 26.6, 25.3, 24.7,\n",
              "       21.2, 19.3, 20. , 16.6, 14.4, 19.4, 19.7, 20.5, 25. , 23.4, 18.9,\n",
              "       35.4, 24.7, 31.6, 23.3, 19.6, 18.7, 16. , 22.2, 25. , 33. , 23.5,\n",
              "       19.4, 22. , 17.4, 20.9, 24.2, 21.7, 22.8, 23.4, 24.1, 21.4, 20. ,\n",
              "       20.8, 21.2, 20.3, 28. , 23.9, 24.8, 22.9, 23.9, 26.6, 22.5, 22.2,\n",
              "       23.6, 28.7, 22.6, 22. , 22.9, 25. , 20.6, 28.4, 21.4, 38.7, 43.8,\n",
              "       33.2, 27.5, 26.5, 18.6, 19.3, 20.1, 19.5, 19.5, 20.4, 19.8, 19.4,\n",
              "       21.7, 22.8, 18.8, 18.7, 18.5, 18.3, 21.2, 19.2, 20.4, 19.3, 22. ,\n",
              "       20.3, 20.5, 17.3, 18.8, 21.4, 15.7, 16.2, 18. , 14.3, 19.2, 19.6,\n",
              "       23. , 18.4, 15.6, 18.1, 17.4, 17.1, 13.3, 17.8, 14. , 14.4, 13.4,\n",
              "       15.6, 11.8, 13.8, 15.6, 14.6, 17.8, 15.4, 21.5, 19.6, 15.3, 19.4,\n",
              "       17. , 15.6, 13.1, 41.3, 24.3, 23.3, 27. , 50. , 50. , 50. , 22.7,\n",
              "       25. , 50. , 23.8, 23.8, 22.3, 17.4, 19.1, 23.1, 23.6, 22.6, 29.4,\n",
              "       23.2, 24.6, 29.9, 37.2, 39.8, 36.2, 37.9, 32.5, 26.4, 29.6, 50. ,\n",
              "       32. , 29.8, 34.9, 37. , 30.5, 36.4, 31.1, 29.1, 50. , 33.3, 30.3,\n",
              "       34.6, 34.9, 32.9, 24.1, 42.3, 48.5, 50. , 22.6, 24.4, 22.5, 24.4,\n",
              "       20. , 21.7, 19.3, 22.4, 28.1, 23.7, 25. , 23.3, 28.7, 21.5, 23. ,\n",
              "       26.7, 21.7, 27.5, 30.1, 44.8, 50. , 37.6, 31.6, 46.7, 31.5, 24.3,\n",
              "       31.7, 41.7, 48.3, 29. , 24. , 25.1, 31.5, 23.7, 23.3, 22. , 20.1,\n",
              "       22.2, 23.7, 17.6, 18.5, 24.3, 20.5, 24.5, 26.2, 24.4, 24.8, 29.6,\n",
              "       42.8, 21.9, 20.9, 44. , 50. , 36. , 30.1, 33.8, 43.1, 48.8, 31. ,\n",
              "       36.5, 22.8, 30.7, 50. , 43.5, 20.7, 21.1, 25.2, 24.4, 35.2, 32.4,\n",
              "       32. , 33.2, 33.1, 29.1, 35.1, 45.4, 35.4, 46. , 50. , 32.2, 22. ,\n",
              "       20.1, 23.2, 22.3, 24.8, 28.5, 37.3, 27.9, 23.9, 21.7, 28.6, 27.1,\n",
              "       20.3, 22.5, 29. , 24.8, 22. , 26.4, 33.1, 36.1, 28.4, 33.4, 28.2,\n",
              "       22.8, 20.3, 16.1, 22.1, 19.4, 21.6, 23.8, 16.2, 17.8, 19.8, 23.1,\n",
              "       21. , 23.8, 23.1, 20.4, 18.5, 25. , 24.6, 23. , 22.2, 19.3, 22.6,\n",
              "       19.8, 17.1, 19.4, 22.2, 20.7, 21.1, 19.5, 18.5, 20.6, 19. , 18.7,\n",
              "       32.7, 16.5, 23.9, 31.2, 17.5, 17.2, 23.1, 24.5, 26.6, 22.9, 24.1,\n",
              "       18.6, 30.1, 18.2, 20.6, 17.8, 21.7, 22.7, 22.6, 25. , 19.9, 20.8,\n",
              "       16.8, 21.9, 27.5, 21.9, 23.1, 50. , 50. , 50. , 50. , 50. , 13.8,\n",
              "       13.8, 15. , 13.9, 13.3, 13.1, 10.2, 10.4, 10.9, 11.3, 12.3,  8.8,\n",
              "        7.2, 10.5,  7.4, 10.2, 11.5, 15.1, 23.2,  9.7, 13.8, 12.7, 13.1,\n",
              "       12.5,  8.5,  5. ,  6.3,  5.6,  7.2, 12.1,  8.3,  8.5,  5. , 11.9,\n",
              "       27.9, 17.2, 27.5, 15. , 17.2, 17.9, 16.3,  7. ,  7.2,  7.5, 10.4,\n",
              "        8.8,  8.4, 16.7, 14.2, 20.8, 13.4, 11.7,  8.3, 10.2, 10.9, 11. ,\n",
              "        9.5, 14.5, 14.1, 16.1, 14.3, 11.7, 13.4,  9.6,  8.7,  8.4, 12.8,\n",
              "       10.5, 17.1, 18.4, 15.4, 10.8, 11.8, 14.9, 12.6, 14.1, 13. , 13.4,\n",
              "       15.2, 16.1, 17.8, 14.9, 14.1, 12.7, 13.5, 14.9, 20. , 16.4, 17.7,\n",
              "       19.5, 20.2, 21.4, 19.9, 19. , 19.1, 19.1, 20.1, 19.9, 19.6, 23.2,\n",
              "       29.8, 13.8, 13.3, 16.7, 12. , 14.6, 21.4, 23. , 23.7, 25. , 21.8,\n",
              "       20.6, 21.2, 19.1, 20.6, 15.2,  7. ,  8.1, 13.6, 20.1, 21.8, 24.5,\n",
              "       23.1, 19.7, 18.3, 21.2, 17.5, 16.8, 22.4, 20.6, 23.9, 22. , 11.9])"
            ]
          },
          "metadata": {},
          "execution_count": 199
        }
      ],
      "source": [
        "y = boston_data['target']\n",
        "y"
      ],
      "id": "ffda55da-f459-4b8b-acfa-33b88af2b7b8"
    },
    {
      "cell_type": "code",
      "execution_count": null,
      "metadata": {
        "colab": {
          "base_uri": "https://localhost:8080/",
          "height": 1000
        },
        "id": "47c5e0a9-2ca6-4222-801a-e4ca8f4abc4b",
        "outputId": "19e496eb-3dbd-4162-e0ff-9332820a5193"
      },
      "outputs": [
        {
          "output_type": "display_data",
          "data": {
            "text/plain": [
              "<Figure size 1440x1440 with 16 Axes>"
            ],
            "image/png": "[encoded data removed]"
          },
          "metadata": {
            "needs_background": "light"
          }
        }
      ],
      "source": [
        "_ = X.hist(X.columns, bins=30, figsize=(20, 20))"
      ],
      "id": "47c5e0a9-2ca6-4222-801a-e4ca8f4abc4b"
    },
    {
      "cell_type": "markdown",
      "metadata": {
        "id": "b80c1cdc-bb74-4d5d-9b31-2cd40daaa533"
      },
      "source": [
        "# Описание признаков:\n",
        "- **CRIM** - per capita crime rate by town - уровень преступности на душу населения в районе объекта недвижимости\n",
        "- **ZN** - proportion of residential land zoned for lots over 25,000 sq.ft. - число жилых участков площадью свыше 25 000 кв.фут.\n",
        "- **INDUS** - proportion of non-retail business acres per town - доля акров не розничного бизнеса в районе\n",
        "- **NOX** - nitric oxides concentration (parts per 10 million) -  концентрация оксидов азота NOX (частей на 10 млн.)\n",
        "- **RM** - average number of rooms per dwelling - среднее количество комнат в одном жилом помещении\n",
        "- **AGE** - proportion of owner-occupied units built prior to 1940 - доля зданий в районе, построенных до 1940 года\n",
        "- **DIS** - weighted distances to five Boston employment centres - взвешенные расстояния до пяти бостонских центров занятости\n",
        "- **RAD** - index of accessibility to radial highways - индекс доступности к радиальным магистралям\n",
        "- **TAX** - full-value property-tax rate per $ \\$10,000$ - ставка налога на недвижимость за каждые $\\$10,000$ стоимости недвижимости\n",
        "- **PTRATIO** - число учеников в школах на одного школьного учителя\n",
        "- **B** - 1000(Bk - 0.63)^2 where Bk is the proportion of blacks by town - число, показывающее число\n",
        "- **LSTAT** - % lower status of the population - какую долю населения района составляют люди из бедного класса\n",
        "\n",
        "**RENT_PRICE** - стоимость аренды объекта жилья в месяц. Это целевое значение, которое хотим научиться хорошо предсказывать."
      ],
      "id": "b80c1cdc-bb74-4d5d-9b31-2cd40daaa533"
    },
    {
      "cell_type": "markdown",
      "metadata": {
        "id": "3f44ab2b-e64b-4122-9363-e2ac47a6352e"
      },
      "source": [
        "Выделите значения признака ```RM``` в отдельный numpy-array с названием ```x_data```"
      ],
      "id": "3f44ab2b-e64b-4122-9363-e2ac47a6352e"
    },
    {
      "cell_type": "code",
      "execution_count": null,
      "metadata": {
        "id": "c99128fe-6715-4109-b434-387dfe2d1751",
        "colab": {
          "base_uri": "https://localhost:8080/"
        },
        "outputId": "7c659b4b-72fa-407e-871c-8eec217036f7"
      },
      "outputs": [
        {
          "output_type": "execute_result",
          "data": {
            "text/plain": [
              "array([6.575, 6.421, 7.185, 6.998, 7.147, 6.43 , 6.012, 6.172, 5.631,\n",
              "       6.004, 6.377, 6.009, 5.889, 5.949, 6.096, 5.834, 5.935, 5.99 ,\n",
              "       5.456, 5.727, 5.57 , 5.965, 6.142, 5.813, 5.924, 5.599, 5.813,\n",
              "       6.047, 6.495, 6.674, 5.713, 6.072, 5.95 , 5.701, 6.096, 5.933,\n",
              "       5.841, 5.85 , 5.966, 6.595, 7.024, 6.77 , 6.169, 6.211, 6.069,\n",
              "       5.682, 5.786, 6.03 , 5.399, 5.602, 5.963, 6.115, 6.511, 5.998,\n",
              "       5.888, 7.249, 6.383, 6.816, 6.145, 5.927, 5.741, 5.966, 6.456,\n",
              "       6.762, 7.104, 6.29 , 5.787, 5.878, 5.594, 5.885, 6.417, 5.961,\n",
              "       6.065, 6.245, 6.273, 6.286, 6.279, 6.14 , 6.232, 5.874, 6.727,\n",
              "       6.619, 6.302, 6.167, 6.389, 6.63 , 6.015, 6.121, 7.007, 7.079,\n",
              "       6.417, 6.405, 6.442, 6.211, 6.249, 6.625, 6.163, 8.069, 7.82 ,\n",
              "       7.416, 6.727, 6.781, 6.405, 6.137, 6.167, 5.851, 5.836, 6.127,\n",
              "       6.474, 6.229, 6.195, 6.715, 5.913, 6.092, 6.254, 5.928, 6.176,\n",
              "       6.021, 5.872, 5.731, 5.87 , 6.004, 5.961, 5.856, 5.879, 5.986,\n",
              "       5.613, 5.693, 6.431, 5.637, 6.458, 6.326, 6.372, 5.822, 5.757,\n",
              "       6.335, 5.942, 6.454, 5.857, 6.151, 6.174, 5.019, 5.403, 5.468,\n",
              "       4.903, 6.13 , 5.628, 4.926, 5.186, 5.597, 6.122, 5.404, 5.012,\n",
              "       5.709, 6.129, 6.152, 5.272, 6.943, 6.066, 6.51 , 6.25 , 7.489,\n",
              "       7.802, 8.375, 5.854, 6.101, 7.929, 5.877, 6.319, 6.402, 5.875,\n",
              "       5.88 , 5.572, 6.416, 5.859, 6.546, 6.02 , 6.315, 6.86 , 6.98 ,\n",
              "       7.765, 6.144, 7.155, 6.563, 5.604, 6.153, 7.831, 6.782, 6.556,\n",
              "       7.185, 6.951, 6.739, 7.178, 6.8  , 6.604, 7.875, 7.287, 7.107,\n",
              "       7.274, 6.975, 7.135, 6.162, 7.61 , 7.853, 8.034, 5.891, 6.326,\n",
              "       5.783, 6.064, 5.344, 5.96 , 5.404, 5.807, 6.375, 5.412, 6.182,\n",
              "       5.888, 6.642, 5.951, 6.373, 6.951, 6.164, 6.879, 6.618, 8.266,\n",
              "       8.725, 8.04 , 7.163, 7.686, 6.552, 5.981, 7.412, 8.337, 8.247,\n",
              "       6.726, 6.086, 6.631, 7.358, 6.481, 6.606, 6.897, 6.095, 6.358,\n",
              "       6.393, 5.593, 5.605, 6.108, 6.226, 6.433, 6.718, 6.487, 6.438,\n",
              "       6.957, 8.259, 6.108, 5.876, 7.454, 8.704, 7.333, 6.842, 7.203,\n",
              "       7.52 , 8.398, 7.327, 7.206, 5.56 , 7.014, 8.297, 7.47 , 5.92 ,\n",
              "       5.856, 6.24 , 6.538, 7.691, 6.758, 6.854, 7.267, 6.826, 6.482,\n",
              "       6.812, 7.82 , 6.968, 7.645, 7.923, 7.088, 6.453, 6.23 , 6.209,\n",
              "       6.315, 6.565, 6.861, 7.148, 6.63 , 6.127, 6.009, 6.678, 6.549,\n",
              "       5.79 , 6.345, 7.041, 6.871, 6.59 , 6.495, 6.982, 7.236, 6.616,\n",
              "       7.42 , 6.849, 6.635, 5.972, 4.973, 6.122, 6.023, 6.266, 6.567,\n",
              "       5.705, 5.914, 5.782, 6.382, 6.113, 6.426, 6.376, 6.041, 5.708,\n",
              "       6.415, 6.431, 6.312, 6.083, 5.868, 6.333, 6.144, 5.706, 6.031,\n",
              "       6.316, 6.31 , 6.037, 5.869, 5.895, 6.059, 5.985, 5.968, 7.241,\n",
              "       6.54 , 6.696, 6.874, 6.014, 5.898, 6.516, 6.635, 6.939, 6.49 ,\n",
              "       6.579, 5.884, 6.728, 5.663, 5.936, 6.212, 6.395, 6.127, 6.112,\n",
              "       6.398, 6.251, 5.362, 5.803, 8.78 , 3.561, 4.963, 3.863, 4.97 ,\n",
              "       6.683, 7.016, 6.216, 5.875, 4.906, 4.138, 7.313, 6.649, 6.794,\n",
              "       6.38 , 6.223, 6.968, 6.545, 5.536, 5.52 , 4.368, 5.277, 4.652,\n",
              "       5.   , 4.88 , 5.39 , 5.713, 6.051, 5.036, 6.193, 5.887, 6.471,\n",
              "       6.405, 5.747, 5.453, 5.852, 5.987, 6.343, 6.404, 5.349, 5.531,\n",
              "       5.683, 4.138, 5.608, 5.617, 6.852, 5.757, 6.657, 4.628, 5.155,\n",
              "       4.519, 6.434, 6.782, 5.304, 5.957, 6.824, 6.411, 6.006, 5.648,\n",
              "       6.103, 5.565, 5.896, 5.837, 6.202, 6.193, 6.38 , 6.348, 6.833,\n",
              "       6.425, 6.436, 6.208, 6.629, 6.461, 6.152, 5.935, 5.627, 5.818,\n",
              "       6.406, 6.219, 6.485, 5.854, 6.459, 6.341, 6.251, 6.185, 6.417,\n",
              "       6.749, 6.655, 6.297, 7.393, 6.728, 6.525, 5.976, 5.936, 6.301,\n",
              "       6.081, 6.701, 6.376, 6.317, 6.513, 6.209, 5.759, 5.952, 6.003,\n",
              "       5.926, 5.713, 6.167, 6.229, 6.437, 6.98 , 5.427, 6.162, 6.484,\n",
              "       5.304, 6.185, 6.229, 6.242, 6.75 , 7.061, 5.762, 5.871, 6.312,\n",
              "       6.114, 5.905, 5.454, 5.414, 5.093, 5.983, 5.983, 5.707, 5.926,\n",
              "       5.67 , 5.39 , 5.794, 6.019, 5.569, 6.027, 6.593, 6.12 , 6.976,\n",
              "       6.794, 6.03 ])"
            ]
          },
          "metadata": {},
          "execution_count": 201
        }
      ],
      "source": [
        "x_data = X['RM'].values # создание numpy массива, для того чтобы векторно выполнять расчеты.\n",
        "x_data"
      ],
      "id": "c99128fe-6715-4109-b434-387dfe2d1751"
    },
    {
      "cell_type": "code",
      "execution_count": null,
      "metadata": {
        "colab": {
          "base_uri": "https://localhost:8080/"
        },
        "id": "7cf8f403-3eb4-467e-ac6a-ce91daf8c70e",
        "outputId": "b86ba8c8-31ca-462c-95d1-a0e06ceea2fe"
      },
      "outputs": [
        {
          "output_type": "execute_result",
          "data": {
            "text/plain": [
              "numpy.ndarray"
            ]
          },
          "metadata": {},
          "execution_count": 202
        }
      ],
      "source": [
        "type(x_data)"
      ],
      "id": "7cf8f403-3eb4-467e-ac6a-ce91daf8c70e"
    },
    {
      "cell_type": "markdown",
      "metadata": {
        "id": "5dad9e2b-db89-4f37-8dda-cb5315c857f4"
      },
      "source": [
        "Постройте scatter-plot зависимости цены квартиры от количества комнат в квартире."
      ],
      "id": "5dad9e2b-db89-4f37-8dda-cb5315c857f4"
    },
    {
      "cell_type": "code",
      "execution_count": null,
      "metadata": {
        "colab": {
          "base_uri": "https://localhost:8080/",
          "height": 282
        },
        "id": "3e4f036b-5c2f-4d26-a86e-fa6d52d4edd2",
        "outputId": "6829b0e9-867c-47d4-e25b-c0c23f85bf9e"
      },
      "outputs": [
        {
          "output_type": "execute_result",
          "data": {
            "text/plain": [
              "<matplotlib.collections.PathCollection at 0x7f56ccf22190>"
            ]
          },
          "metadata": {},
          "execution_count": 203
        },
        {
          "output_type": "display_data",
          "data": {
            "text/plain": [
              "<Figure size 432x288 with 1 Axes>"
            ],
            "image/png": "[encoded data removed]"
          },
          "metadata": {
            "needs_background": "light"
          }
        }
      ],
      "source": [
        "plt.scatter(x_data, y)"
      ],
      "id": "3e4f036b-5c2f-4d26-a86e-fa6d52d4edd2"
    },
    {
      "cell_type": "markdown",
      "metadata": {
        "id": "5e53a9eb-c673-47cf-ac2f-a09626f206dd"
      },
      "source": [
        "Видим линейную корреляцию признака ```RM``` и таргета"
      ],
      "id": "5e53a9eb-c673-47cf-ac2f-a09626f206dd"
    },
    {
      "cell_type": "code",
      "execution_count": null,
      "metadata": {
        "id": "dae116ca-1eb8-4b3e-991a-c32a6f64f3c6",
        "colab": {
          "base_uri": "https://localhost:8080/"
        },
        "outputId": "0d17bfdd-5b51-4cea-fa4b-39cf02a1758b"
      },
      "outputs": [
        {
          "output_type": "execute_result",
          "data": {
            "text/plain": [
              "array([[6.575],\n",
              "       [6.421],\n",
              "       [7.185],\n",
              "       [6.998],\n",
              "       [7.147],\n",
              "       [6.43 ],\n",
              "       [6.012],\n",
              "       [6.172],\n",
              "       [5.631],\n",
              "       [6.004],\n",
              "       [6.377],\n",
              "       [6.009],\n",
              "       [5.889],\n",
              "       [5.949],\n",
              "       [6.096],\n",
              "       [5.834],\n",
              "       [5.935],\n",
              "       [5.99 ],\n",
              "       [5.456],\n",
              "       [5.727],\n",
              "       [5.57 ],\n",
              "       [5.965],\n",
              "       [6.142],\n",
              "       [5.813],\n",
              "       [5.924],\n",
              "       [5.599],\n",
              "       [5.813],\n",
              "       [6.047],\n",
              "       [6.495],\n",
              "       [6.674],\n",
              "       [5.713],\n",
              "       [6.072],\n",
              "       [5.95 ],\n",
              "       [5.701],\n",
              "       [6.096],\n",
              "       [5.933],\n",
              "       [5.841],\n",
              "       [5.85 ],\n",
              "       [5.966],\n",
              "       [6.595],\n",
              "       [7.024],\n",
              "       [6.77 ],\n",
              "       [6.169],\n",
              "       [6.211],\n",
              "       [6.069],\n",
              "       [5.682],\n",
              "       [5.786],\n",
              "       [6.03 ],\n",
              "       [5.399],\n",
              "       [5.602],\n",
              "       [5.963],\n",
              "       [6.115],\n",
              "       [6.511],\n",
              "       [5.998],\n",
              "       [5.888],\n",
              "       [7.249],\n",
              "       [6.383],\n",
              "       [6.816],\n",
              "       [6.145],\n",
              "       [5.927],\n",
              "       [5.741],\n",
              "       [5.966],\n",
              "       [6.456],\n",
              "       [6.762],\n",
              "       [7.104],\n",
              "       [6.29 ],\n",
              "       [5.787],\n",
              "       [5.878],\n",
              "       [5.594],\n",
              "       [5.885],\n",
              "       [6.417],\n",
              "       [5.961],\n",
              "       [6.065],\n",
              "       [6.245],\n",
              "       [6.273],\n",
              "       [6.286],\n",
              "       [6.279],\n",
              "       [6.14 ],\n",
              "       [6.232],\n",
              "       [5.874],\n",
              "       [6.727],\n",
              "       [6.619],\n",
              "       [6.302],\n",
              "       [6.167],\n",
              "       [6.389],\n",
              "       [6.63 ],\n",
              "       [6.015],\n",
              "       [6.121],\n",
              "       [7.007],\n",
              "       [7.079],\n",
              "       [6.417],\n",
              "       [6.405],\n",
              "       [6.442],\n",
              "       [6.211],\n",
              "       [6.249],\n",
              "       [6.625],\n",
              "       [6.163],\n",
              "       [8.069],\n",
              "       [7.82 ],\n",
              "       [7.416],\n",
              "       [6.727],\n",
              "       [6.781],\n",
              "       [6.405],\n",
              "       [6.137],\n",
              "       [6.167],\n",
              "       [5.851],\n",
              "       [5.836],\n",
              "       [6.127],\n",
              "       [6.474],\n",
              "       [6.229],\n",
              "       [6.195],\n",
              "       [6.715],\n",
              "       [5.913],\n",
              "       [6.092],\n",
              "       [6.254],\n",
              "       [5.928],\n",
              "       [6.176],\n",
              "       [6.021],\n",
              "       [5.872],\n",
              "       [5.731],\n",
              "       [5.87 ],\n",
              "       [6.004],\n",
              "       [5.961],\n",
              "       [5.856],\n",
              "       [5.879],\n",
              "       [5.986],\n",
              "       [5.613],\n",
              "       [5.693],\n",
              "       [6.431],\n",
              "       [5.637],\n",
              "       [6.458],\n",
              "       [6.326],\n",
              "       [6.372],\n",
              "       [5.822],\n",
              "       [5.757],\n",
              "       [6.335],\n",
              "       [5.942],\n",
              "       [6.454],\n",
              "       [5.857],\n",
              "       [6.151],\n",
              "       [6.174],\n",
              "       [5.019],\n",
              "       [5.403],\n",
              "       [5.468],\n",
              "       [4.903],\n",
              "       [6.13 ],\n",
              "       [5.628],\n",
              "       [4.926],\n",
              "       [5.186],\n",
              "       [5.597],\n",
              "       [6.122],\n",
              "       [5.404],\n",
              "       [5.012],\n",
              "       [5.709],\n",
              "       [6.129],\n",
              "       [6.152],\n",
              "       [5.272],\n",
              "       [6.943],\n",
              "       [6.066],\n",
              "       [6.51 ],\n",
              "       [6.25 ],\n",
              "       [7.489],\n",
              "       [7.802],\n",
              "       [8.375],\n",
              "       [5.854],\n",
              "       [6.101],\n",
              "       [7.929],\n",
              "       [5.877],\n",
              "       [6.319],\n",
              "       [6.402],\n",
              "       [5.875],\n",
              "       [5.88 ],\n",
              "       [5.572],\n",
              "       [6.416],\n",
              "       [5.859],\n",
              "       [6.546],\n",
              "       [6.02 ],\n",
              "       [6.315],\n",
              "       [6.86 ],\n",
              "       [6.98 ],\n",
              "       [7.765],\n",
              "       [6.144],\n",
              "       [7.155],\n",
              "       [6.563],\n",
              "       [5.604],\n",
              "       [6.153],\n",
              "       [7.831],\n",
              "       [6.782],\n",
              "       [6.556],\n",
              "       [7.185],\n",
              "       [6.951],\n",
              "       [6.739],\n",
              "       [7.178],\n",
              "       [6.8  ],\n",
              "       [6.604],\n",
              "       [7.875],\n",
              "       [7.287],\n",
              "       [7.107],\n",
              "       [7.274],\n",
              "       [6.975],\n",
              "       [7.135],\n",
              "       [6.162],\n",
              "       [7.61 ],\n",
              "       [7.853],\n",
              "       [8.034],\n",
              "       [5.891],\n",
              "       [6.326],\n",
              "       [5.783],\n",
              "       [6.064],\n",
              "       [5.344],\n",
              "       [5.96 ],\n",
              "       [5.404],\n",
              "       [5.807],\n",
              "       [6.375],\n",
              "       [5.412],\n",
              "       [6.182],\n",
              "       [5.888],\n",
              "       [6.642],\n",
              "       [5.951],\n",
              "       [6.373],\n",
              "       [6.951],\n",
              "       [6.164],\n",
              "       [6.879],\n",
              "       [6.618],\n",
              "       [8.266],\n",
              "       [8.725],\n",
              "       [8.04 ],\n",
              "       [7.163],\n",
              "       [7.686],\n",
              "       [6.552],\n",
              "       [5.981],\n",
              "       [7.412],\n",
              "       [8.337],\n",
              "       [8.247],\n",
              "       [6.726],\n",
              "       [6.086],\n",
              "       [6.631],\n",
              "       [7.358],\n",
              "       [6.481],\n",
              "       [6.606],\n",
              "       [6.897],\n",
              "       [6.095],\n",
              "       [6.358],\n",
              "       [6.393],\n",
              "       [5.593],\n",
              "       [5.605],\n",
              "       [6.108],\n",
              "       [6.226],\n",
              "       [6.433],\n",
              "       [6.718],\n",
              "       [6.487],\n",
              "       [6.438],\n",
              "       [6.957],\n",
              "       [8.259],\n",
              "       [6.108],\n",
              "       [5.876],\n",
              "       [7.454],\n",
              "       [8.704],\n",
              "       [7.333],\n",
              "       [6.842],\n",
              "       [7.203],\n",
              "       [7.52 ],\n",
              "       [8.398],\n",
              "       [7.327],\n",
              "       [7.206],\n",
              "       [5.56 ],\n",
              "       [7.014],\n",
              "       [8.297],\n",
              "       [7.47 ],\n",
              "       [5.92 ],\n",
              "       [5.856],\n",
              "       [6.24 ],\n",
              "       [6.538],\n",
              "       [7.691],\n",
              "       [6.758],\n",
              "       [6.854],\n",
              "       [7.267],\n",
              "       [6.826],\n",
              "       [6.482],\n",
              "       [6.812],\n",
              "       [7.82 ],\n",
              "       [6.968],\n",
              "       [7.645],\n",
              "       [7.923],\n",
              "       [7.088],\n",
              "       [6.453],\n",
              "       [6.23 ],\n",
              "       [6.209],\n",
              "       [6.315],\n",
              "       [6.565],\n",
              "       [6.861],\n",
              "       [7.148],\n",
              "       [6.63 ],\n",
              "       [6.127],\n",
              "       [6.009],\n",
              "       [6.678],\n",
              "       [6.549],\n",
              "       [5.79 ],\n",
              "       [6.345],\n",
              "       [7.041],\n",
              "       [6.871],\n",
              "       [6.59 ],\n",
              "       [6.495],\n",
              "       [6.982],\n",
              "       [7.236],\n",
              "       [6.616],\n",
              "       [7.42 ],\n",
              "       [6.849],\n",
              "       [6.635],\n",
              "       [5.972],\n",
              "       [4.973],\n",
              "       [6.122],\n",
              "       [6.023],\n",
              "       [6.266],\n",
              "       [6.567],\n",
              "       [5.705],\n",
              "       [5.914],\n",
              "       [5.782],\n",
              "       [6.382],\n",
              "       [6.113],\n",
              "       [6.426],\n",
              "       [6.376],\n",
              "       [6.041],\n",
              "       [5.708],\n",
              "       [6.415],\n",
              "       [6.431],\n",
              "       [6.312],\n",
              "       [6.083],\n",
              "       [5.868],\n",
              "       [6.333],\n",
              "       [6.144],\n",
              "       [5.706],\n",
              "       [6.031],\n",
              "       [6.316],\n",
              "       [6.31 ],\n",
              "       [6.037],\n",
              "       [5.869],\n",
              "       [5.895],\n",
              "       [6.059],\n",
              "       [5.985],\n",
              "       [5.968],\n",
              "       [7.241],\n",
              "       [6.54 ],\n",
              "       [6.696],\n",
              "       [6.874],\n",
              "       [6.014],\n",
              "       [5.898],\n",
              "       [6.516],\n",
              "       [6.635],\n",
              "       [6.939],\n",
              "       [6.49 ],\n",
              "       [6.579],\n",
              "       [5.884],\n",
              "       [6.728],\n",
              "       [5.663],\n",
              "       [5.936],\n",
              "       [6.212],\n",
              "       [6.395],\n",
              "       [6.127],\n",
              "       [6.112],\n",
              "       [6.398],\n",
              "       [6.251],\n",
              "       [5.362],\n",
              "       [5.803],\n",
              "       [8.78 ],\n",
              "       [3.561],\n",
              "       [4.963],\n",
              "       [3.863],\n",
              "       [4.97 ],\n",
              "       [6.683],\n",
              "       [7.016],\n",
              "       [6.216],\n",
              "       [5.875],\n",
              "       [4.906],\n",
              "       [4.138],\n",
              "       [7.313],\n",
              "       [6.649],\n",
              "       [6.794],\n",
              "       [6.38 ],\n",
              "       [6.223],\n",
              "       [6.968],\n",
              "       [6.545],\n",
              "       [5.536],\n",
              "       [5.52 ],\n",
              "       [4.368],\n",
              "       [5.277],\n",
              "       [4.652],\n",
              "       [5.   ],\n",
              "       [4.88 ],\n",
              "       [5.39 ],\n",
              "       [5.713],\n",
              "       [6.051],\n",
              "       [5.036],\n",
              "       [6.193],\n",
              "       [5.887],\n",
              "       [6.471],\n",
              "       [6.405],\n",
              "       [5.747],\n",
              "       [5.453],\n",
              "       [5.852],\n",
              "       [5.987],\n",
              "       [6.343],\n",
              "       [6.404],\n",
              "       [5.349],\n",
              "       [5.531],\n",
              "       [5.683],\n",
              "       [4.138],\n",
              "       [5.608],\n",
              "       [5.617],\n",
              "       [6.852],\n",
              "       [5.757],\n",
              "       [6.657],\n",
              "       [4.628],\n",
              "       [5.155],\n",
              "       [4.519],\n",
              "       [6.434],\n",
              "       [6.782],\n",
              "       [5.304],\n",
              "       [5.957],\n",
              "       [6.824],\n",
              "       [6.411],\n",
              "       [6.006],\n",
              "       [5.648],\n",
              "       [6.103],\n",
              "       [5.565],\n",
              "       [5.896],\n",
              "       [5.837],\n",
              "       [6.202],\n",
              "       [6.193],\n",
              "       [6.38 ],\n",
              "       [6.348],\n",
              "       [6.833],\n",
              "       [6.425],\n",
              "       [6.436],\n",
              "       [6.208],\n",
              "       [6.629],\n",
              "       [6.461],\n",
              "       [6.152],\n",
              "       [5.935],\n",
              "       [5.627],\n",
              "       [5.818],\n",
              "       [6.406],\n",
              "       [6.219],\n",
              "       [6.485],\n",
              "       [5.854],\n",
              "       [6.459],\n",
              "       [6.341],\n",
              "       [6.251],\n",
              "       [6.185],\n",
              "       [6.417],\n",
              "       [6.749],\n",
              "       [6.655],\n",
              "       [6.297],\n",
              "       [7.393],\n",
              "       [6.728],\n",
              "       [6.525],\n",
              "       [5.976],\n",
              "       [5.936],\n",
              "       [6.301],\n",
              "       [6.081],\n",
              "       [6.701],\n",
              "       [6.376],\n",
              "       [6.317],\n",
              "       [6.513],\n",
              "       [6.209],\n",
              "       [5.759],\n",
              "       [5.952],\n",
              "       [6.003],\n",
              "       [5.926],\n",
              "       [5.713],\n",
              "       [6.167],\n",
              "       [6.229],\n",
              "       [6.437],\n",
              "       [6.98 ],\n",
              "       [5.427],\n",
              "       [6.162],\n",
              "       [6.484],\n",
              "       [5.304],\n",
              "       [6.185],\n",
              "       [6.229],\n",
              "       [6.242],\n",
              "       [6.75 ],\n",
              "       [7.061],\n",
              "       [5.762],\n",
              "       [5.871],\n",
              "       [6.312],\n",
              "       [6.114],\n",
              "       [5.905],\n",
              "       [5.454],\n",
              "       [5.414],\n",
              "       [5.093],\n",
              "       [5.983],\n",
              "       [5.983],\n",
              "       [5.707],\n",
              "       [5.926],\n",
              "       [5.67 ],\n",
              "       [5.39 ],\n",
              "       [5.794],\n",
              "       [6.019],\n",
              "       [5.569],\n",
              "       [6.027],\n",
              "       [6.593],\n",
              "       [6.12 ],\n",
              "       [6.976],\n",
              "       [6.794],\n",
              "       [6.03 ]])"
            ]
          },
          "metadata": {},
          "execution_count": 204
        }
      ],
      "source": [
        "x_data = x_data.reshape((-1, 1))\n",
        "x_data"
      ],
      "id": "dae116ca-1eb8-4b3e-991a-c32a6f64f3c6"
    },
    {
      "cell_type": "code",
      "execution_count": null,
      "metadata": {
        "colab": {
          "base_uri": "https://localhost:8080/"
        },
        "id": "bf1f7ebb-512f-4062-9425-2de969d15793",
        "outputId": "8623c0a5-6867-4e81-bac0-b21ab8b99d8e"
      },
      "outputs": [
        {
          "output_type": "execute_result",
          "data": {
            "text/plain": [
              "(506, 1)"
            ]
          },
          "metadata": {},
          "execution_count": 205
        }
      ],
      "source": [
        "x_data.shape"
      ],
      "id": "bf1f7ebb-512f-4062-9425-2de969d15793"
    },
    {
      "cell_type": "code",
      "execution_count": null,
      "metadata": {
        "id": "3fb6390e-7150-4e51-ac12-c12c67c5a7f9"
      },
      "outputs": [],
      "source": [
        "from sklearn.linear_model import LinearRegression\n",
        "reg = LinearRegression()"
      ],
      "id": "3fb6390e-7150-4e51-ac12-c12c67c5a7f9"
    },
    {
      "cell_type": "code",
      "execution_count": null,
      "metadata": {
        "id": "56c8b286-765a-4f74-92b0-5e80bd05566c"
      },
      "outputs": [],
      "source": [
        "# Имеено тут находится всё машинное обучение\n",
        "# Обучаем модель\n",
        "reg.fit(x_data, y) # признаки и правильные ответы и как то определяет веса\n",
        "\n",
        "# Делаем предсказания\n",
        "y_pred = reg.predict(x_data) # Получаем вектор numpy с предсказанием правильного ответа"
      ],
      "id": "56c8b286-765a-4f74-92b0-5e80bd05566c"
    },
    {
      "cell_type": "code",
      "execution_count": null,
      "metadata": {
        "id": "cf9a80f6-57fe-4320-9fbc-3b48ec233ff8"
      },
      "outputs": [],
      "source": [
        "from sklearn.metrics import mean_squared_error"
      ],
      "id": "cf9a80f6-57fe-4320-9fbc-3b48ec233ff8"
    },
    {
      "cell_type": "code",
      "execution_count": null,
      "metadata": {
        "colab": {
          "base_uri": "https://localhost:8080/"
        },
        "id": "561c14d6-7818-45bf-90c9-bf5355834881",
        "outputId": "66ec7190-33d3-4721-a855-c4850ff210e3"
      },
      "outputs": [
        {
          "output_type": "execute_result",
          "data": {
            "text/plain": [
              "43.60055177116956"
            ]
          },
          "metadata": {},
          "execution_count": 209
        }
      ],
      "source": [
        "mean_squared_error(y, y_pred) # Верные ответы и наши предсказания"
      ],
      "id": "561c14d6-7818-45bf-90c9-bf5355834881"
    },
    {
      "cell_type": "code",
      "execution_count": null,
      "metadata": {
        "colab": {
          "base_uri": "https://localhost:8080/"
        },
        "id": "a3fc2a23-0494-4442-95d9-82f7bcb956ac",
        "outputId": "7f6d415e-f0db-4a8a-b2cf-2d04c9fc67fc"
      },
      "outputs": [
        {
          "output_type": "execute_result",
          "data": {
            "text/plain": [
              "array([9.10210898])"
            ]
          },
          "metadata": {},
          "execution_count": 210
        }
      ],
      "source": [
        "reg.coef_  # Веса нашей модели"
      ],
      "id": "a3fc2a23-0494-4442-95d9-82f7bcb956ac"
    },
    {
      "cell_type": "code",
      "execution_count": null,
      "metadata": {
        "colab": {
          "base_uri": "https://localhost:8080/"
        },
        "id": "508c3d1f-34ea-46f6-8f04-d32b6d0aec01",
        "outputId": "28031f3c-d5e4-4af9-cc24-f2805630169a"
      },
      "outputs": [
        {
          "output_type": "execute_result",
          "data": {
            "text/plain": [
              "array([170, 180, 190])"
            ]
          },
          "metadata": {},
          "execution_count": 211
        }
      ],
      "source": [
        "x\n",
        "y_true"
      ],
      "id": "508c3d1f-34ea-46f6-8f04-d32b6d0aec01"
    },
    {
      "cell_type": "code",
      "execution_count": null,
      "metadata": {
        "colab": {
          "base_uri": "https://localhost:8080/"
        },
        "id": "a9740838-b07b-4a73-9fe0-d40360219b35",
        "outputId": "ef774aee-b574-46f2-e674-a9fb0b5de43e"
      },
      "outputs": [
        {
          "output_type": "execute_result",
          "data": {
            "text/plain": [
              "array([210, 225, 243])"
            ]
          },
          "metadata": {},
          "execution_count": 212
        }
      ],
      "source": [
        "x * weight"
      ],
      "id": "a9740838-b07b-4a73-9fe0-d40360219b35"
    },
    {
      "cell_type": "code",
      "execution_count": null,
      "metadata": {
        "id": "3d5b399f-28cb-4d5e-b48f-646eb1002070"
      },
      "outputs": [],
      "source": [
        "x_features = np.array([1, 2, 3, 5])"
      ],
      "id": "3d5b399f-28cb-4d5e-b48f-646eb1002070"
    },
    {
      "cell_type": "code",
      "execution_count": null,
      "metadata": {
        "id": "ff67d89b-abb5-4985-b1ce-41cb3b2465fd"
      },
      "outputs": [],
      "source": [
        "weights = np.array([2, 3, 4, 5])"
      ],
      "id": "ff67d89b-abb5-4985-b1ce-41cb3b2465fd"
    },
    {
      "cell_type": "code",
      "execution_count": null,
      "metadata": {
        "colab": {
          "base_uri": "https://localhost:8080/"
        },
        "id": "167a8006-0079-4226-93d6-ee3272a92a89",
        "outputId": "43c55848-1248-48cb-9d7a-80cf9d1ee444"
      },
      "outputs": [
        {
          "output_type": "execute_result",
          "data": {
            "text/plain": [
              "45"
            ]
          },
          "metadata": {},
          "execution_count": 215
        }
      ],
      "source": [
        "x_features @ weights"
      ],
      "id": "167a8006-0079-4226-93d6-ee3272a92a89"
    },
    {
      "cell_type": "markdown",
      "metadata": {
        "id": "8d98ae81-81be-4433-bcc5-cab58533a803"
      },
      "source": [
        "Построим график обученной прямой"
      ],
      "id": "8d98ae81-81be-4433-bcc5-cab58533a803"
    },
    {
      "cell_type": "code",
      "execution_count": null,
      "metadata": {
        "colab": {
          "base_uri": "https://localhost:8080/",
          "height": 334
        },
        "id": "a328dd8b-3182-4a0a-bf99-544eecb064a2",
        "outputId": "e89aeca6-421b-4776-a266-f392cf060fb1"
      },
      "outputs": [
        {
          "output_type": "stream",
          "name": "stdout",
          "text": [
            "Coefficients: \n",
            " [9.10210898]\n",
            "Mean squared error: 43.60\n",
            "Coefficient of determination: 0.48\n"
          ]
        },
        {
          "output_type": "display_data",
          "data": {
            "text/plain": [
              "<Figure size 432x288 with 1 Axes>"
            ],
            "image/png": "[encoded data removed]"
          },
          "metadata": {
            "needs_background": "light"
          }
        }
      ],
      "source": [
        "from sklearn.metrics import mean_squared_error, r2_score\n",
        "\n",
        "print('Coefficients: \\n', reg.coef_)\n",
        "\n",
        "print('Mean squared error: %.2f'\n",
        "      % mean_squared_error(y, y_pred))\n",
        "\n",
        "print('Coefficient of determination: %.2f'\n",
        "      % r2_score(y, y_pred))\n",
        "\n",
        "plt.scatter(x_data, y,  color='black')\n",
        "plt.plot(x_data, y_pred, color='blue', linewidth=3)\n",
        "\n",
        "plt.show()"
      ],
      "id": "a328dd8b-3182-4a0a-bf99-544eecb064a2"
    },
    {
      "cell_type": "markdown",
      "metadata": {
        "id": "19a9d3b4-1031-4bc0-b6b3-2d7ead3cc2f4"
      },
      "source": [
        "Теперь обучим модель на всех признаках\n",
        "\n",
        "Для начала нужно разбить выборку на обучающую и тестовую.\n",
        "\n",
        "Качество модели нужно оценивать по выборке, которая не участвовала в обучении."
      ],
      "id": "19a9d3b4-1031-4bc0-b6b3-2d7ead3cc2f4"
    },
    {
      "cell_type": "code",
      "execution_count": null,
      "metadata": {
        "id": "355cceeb-d96e-4a49-9de6-20f0f9675e97"
      },
      "outputs": [],
      "source": [
        "from sklearn.model_selection import train_test_split\n",
        "\n",
        "X_train, X_test, y_train, y_test = train_test_split(X.copy(), y, test_size=0.3, random_state=42)"
      ],
      "id": "355cceeb-d96e-4a49-9de6-20f0f9675e97"
    },
    {
      "cell_type": "markdown",
      "metadata": {
        "id": "c4e58a04-64df-40c6-971f-243824417957"
      },
      "source": [
        "Линейные модели очень чувствительны к нормировке данных\n",
        "\n",
        "Давайте отнормируем признаки"
      ],
      "id": "c4e58a04-64df-40c6-971f-243824417957"
    },
    {
      "cell_type": "code",
      "execution_count": null,
      "metadata": {
        "id": "c98a0c64-9c2f-4be9-8159-7841533ced93"
      },
      "outputs": [],
      "source": [
        "from sklearn.preprocessing import StandardScaler\n",
        "\n",
        "scaler = StandardScaler()\n",
        "X_train[:] = scaler.fit_transform(X_train)\n",
        "X_test[:] = scaler.transform(X_test)"
      ],
      "id": "c98a0c64-9c2f-4be9-8159-7841533ced93"
    },
    {
      "cell_type": "code",
      "execution_count": null,
      "metadata": {
        "id": "59f3d6d5-cfda-4273-ba7b-d850351cb429"
      },
      "outputs": [],
      "source": [
        "X[:] = scaler.fit_transform(X)"
      ],
      "id": "59f3d6d5-cfda-4273-ba7b-d850351cb429"
    },
    {
      "cell_type": "markdown",
      "metadata": {
        "id": "eff93f79-4c0f-46de-a822-dc8031ac9df4"
      },
      "source": [
        "###  Обучим линейную регрессию"
      ],
      "id": "eff93f79-4c0f-46de-a822-dc8031ac9df4"
    },
    {
      "cell_type": "code",
      "execution_count": null,
      "metadata": {
        "id": "6daf6ec0-803e-4d83-a8a0-d8022cd97d17"
      },
      "outputs": [],
      "source": [
        "lr = LinearRegression()"
      ],
      "id": "6daf6ec0-803e-4d83-a8a0-d8022cd97d17"
    },
    {
      "cell_type": "code",
      "execution_count": null,
      "metadata": {
        "id": "c0416978-3368-4915-9a7d-8c36abb5ab83"
      },
      "outputs": [],
      "source": [
        "lr.fit(X_train, y_train)\n",
        "y_pred = lr.predict(X_test)"
      ],
      "id": "c0416978-3368-4915-9a7d-8c36abb5ab83"
    },
    {
      "cell_type": "code",
      "execution_count": null,
      "metadata": {
        "colab": {
          "base_uri": "https://localhost:8080/"
        },
        "id": "a979236b-3dc1-4bc8-9b2f-8ba4e7b8ea6d",
        "outputId": "a2fe08d4-35d2-4277-c3e5-99637870de93"
      },
      "outputs": [
        {
          "output_type": "stream",
          "name": "stdout",
          "text": [
            "MSE error:\t21.517444231177212\n"
          ]
        }
      ],
      "source": [
        "print(\"MSE error:\\t{}\".format(mean_squared_error(y_test, y_pred)))"
      ],
      "id": "a979236b-3dc1-4bc8-9b2f-8ba4e7b8ea6d"
    },
    {
      "cell_type": "markdown",
      "metadata": {
        "id": "2a155ff7-ba0c-45b9-bdc6-9f99658ddd7e"
      },
      "source": [
        "Чтобы понять, какой вклад делают отдельные признаки в целевую переменную, можно посмотреть на коэффициенты обученной линейной модели"
      ],
      "id": "2a155ff7-ba0c-45b9-bdc6-9f99658ddd7e"
    },
    {
      "cell_type": "code",
      "execution_count": null,
      "metadata": {
        "colab": {
          "base_uri": "https://localhost:8080/",
          "height": 250
        },
        "id": "04178919-8bab-48b3-be9c-f1d1be76bc59",
        "outputId": "bfd39e40-391e-40d1-93b7-28a010cbb3fc"
      },
      "outputs": [
        {
          "output_type": "execute_result",
          "data": {
            "text/plain": [
              "       CRIM        ZN     INDUS      CHAS       NOX        RM       AGE  \\\n",
              "0 -0.419782  0.284830 -1.287909 -0.272599 -0.144217  0.413672 -0.120013   \n",
              "1 -0.417339 -0.487722 -0.593381 -0.272599 -0.740262  0.194274  0.367166   \n",
              "2 -0.417342 -0.487722 -0.593381 -0.272599 -0.740262  1.282714 -0.265812   \n",
              "3 -0.416750 -0.487722 -1.306878 -0.272599 -0.835284  1.016303 -0.809889   \n",
              "4 -0.412482 -0.487722 -1.306878 -0.272599 -0.835284  1.228577 -0.511180   \n",
              "\n",
              "        DIS       RAD       TAX   PTRATIO         B     LSTAT  \n",
              "0  0.140214 -0.982843 -0.666608 -1.459000  0.441052 -1.075562  \n",
              "1  0.557160 -0.867883 -0.987329 -0.303094  0.441052 -0.492439  \n",
              "2  0.557160 -0.867883 -0.987329 -0.303094  0.396427 -1.208727  \n",
              "3  1.077737 -0.752922 -1.106115  0.113032  0.416163 -1.361517  \n",
              "4  1.077737 -0.752922 -1.106115  0.113032  0.441052 -1.026501  "
            ],
            "text/html": [
              "\n",
              "  <div id=\"df-b7d08ef9-d300-49d2-926c-8625d6d18b2f\">\n",
              "    <div class=\"colab-df-container\">\n",
              "      <div>\n",
              "<style scoped>\n",
              "    .dataframe tbody tr th:only-of-type {\n",
              "        vertical-align: middle;\n",
              "    }\n",
              "\n",
              "    .dataframe tbody tr th {\n",
              "        vertical-align: top;\n",
              "    }\n",
              "\n",
              "    .dataframe thead th {\n",
              "        text-align: right;\n",
              "    }\n",
              "</style>\n",
              "<table border=\"1\" class=\"dataframe\">\n",
              "  <thead>\n",
              "    <tr style=\"text-align: right;\">\n",
              "      <th></th>\n",
              "      <th>CRIM</th>\n",
              "      <th>ZN</th>\n",
              "      <th>INDUS</th>\n",
              "      <th>CHAS</th>\n",
              "      <th>NOX</th>\n",
              "      <th>RM</th>\n",
              "      <th>AGE</th>\n",
              "      <th>DIS</th>\n",
              "      <th>RAD</th>\n",
              "      <th>TAX</th>\n",
              "      <th>PTRATIO</th>\n",
              "      <th>B</th>\n",
              "      <th>LSTAT</th>\n",
              "    </tr>\n",
              "  </thead>\n",
              "  <tbody>\n",
              "    <tr>\n",
              "      <th>0</th>\n",
              "      <td>-0.419782</td>\n",
              "      <td>0.284830</td>\n",
              "      <td>-1.287909</td>\n",
              "      <td>-0.272599</td>\n",
              "      <td>-0.144217</td>\n",
              "      <td>0.413672</td>\n",
              "      <td>-0.120013</td>\n",
              "      <td>0.140214</td>\n",
              "      <td>-0.982843</td>\n",
              "      <td>-0.666608</td>\n",
              "      <td>-1.459000</td>\n",
              "      <td>0.441052</td>\n",
              "      <td>-1.075562</td>\n",
              "    </tr>\n",
              "    <tr>\n",
              "      <th>1</th>\n",
              "      <td>-0.417339</td>\n",
              "      <td>-0.487722</td>\n",
              "      <td>-0.593381</td>\n",
              "      <td>-0.272599</td>\n",
              "      <td>-0.740262</td>\n",
              "      <td>0.194274</td>\n",
              "      <td>0.367166</td>\n",
              "      <td>0.557160</td>\n",
              "      <td>-0.867883</td>\n",
              "      <td>-0.987329</td>\n",
              "      <td>-0.303094</td>\n",
              "      <td>0.441052</td>\n",
              "      <td>-0.492439</td>\n",
              "    </tr>\n",
              "    <tr>\n",
              "      <th>2</th>\n",
              "      <td>-0.417342</td>\n",
              "      <td>-0.487722</td>\n",
              "      <td>-0.593381</td>\n",
              "      <td>-0.272599</td>\n",
              "      <td>-0.740262</td>\n",
              "      <td>1.282714</td>\n",
              "      <td>-0.265812</td>\n",
              "      <td>0.557160</td>\n",
              "      <td>-0.867883</td>\n",
              "      <td>-0.987329</td>\n",
              "      <td>-0.303094</td>\n",
              "      <td>0.396427</td>\n",
              "      <td>-1.208727</td>\n",
              "    </tr>\n",
              "    <tr>\n",
              "      <th>3</th>\n",
              "      <td>-0.416750</td>\n",
              "      <td>-0.487722</td>\n",
              "      <td>-1.306878</td>\n",
              "      <td>-0.272599</td>\n",
              "      <td>-0.835284</td>\n",
              "      <td>1.016303</td>\n",
              "      <td>-0.809889</td>\n",
              "      <td>1.077737</td>\n",
              "      <td>-0.752922</td>\n",
              "      <td>-1.106115</td>\n",
              "      <td>0.113032</td>\n",
              "      <td>0.416163</td>\n",
              "      <td>-1.361517</td>\n",
              "    </tr>\n",
              "    <tr>\n",
              "      <th>4</th>\n",
              "      <td>-0.412482</td>\n",
              "      <td>-0.487722</td>\n",
              "      <td>-1.306878</td>\n",
              "      <td>-0.272599</td>\n",
              "      <td>-0.835284</td>\n",
              "      <td>1.228577</td>\n",
              "      <td>-0.511180</td>\n",
              "      <td>1.077737</td>\n",
              "      <td>-0.752922</td>\n",
              "      <td>-1.106115</td>\n",
              "      <td>0.113032</td>\n",
              "      <td>0.441052</td>\n",
              "      <td>-1.026501</td>\n",
              "    </tr>\n",
              "  </tbody>\n",
              "</table>\n",
              "</div>\n",
              "      <button class=\"colab-df-convert\" onclick=\"convertToInteractive('df-b7d08ef9-d300-49d2-926c-8625d6d18b2f')\"\n",
              "              title=\"Convert this dataframe to an interactive table.\"\n",
              "              style=\"display:none;\">\n",
              "        \n",
              "  <svg xmlns=\"http://www.w3.org/2000/svg\" height=\"24px\"viewBox=\"0 0 24 24\"\n",
              "       width=\"24px\">\n",
              "    <path d=\"M0 0h24v24H0V0z\" fill=\"none\"/>\n",
              "    <path d=\"M18.56 5.44l.94 2.06.94-2.06 2.06-.94-2.06-.94-.94-2.06-.94 2.06-2.06.94zm-11 1L8.5 8.5l.94-2.06 2.06-.94-2.06-.94L8.5 2.5l-.94 2.06-2.06.94zm10 10l.94 2.06.94-2.06 2.06-.94-2.06-.94-.94-2.06-.94 2.06-2.06.94z\"/><path d=\"M17.41 7.96l-1.37-1.37c-.4-.4-.92-.59-1.43-.59-.52 0-1.04.2-1.43.59L10.3 9.45l-7.72 7.72c-.78.78-.78 2.05 0 2.83L4 21.41c.39.39.9.59 1.41.59.51 0 1.02-.2 1.41-.59l7.78-7.78 2.81-2.81c.8-.78.8-2.07 0-2.86zM5.41 20L4 18.59l7.72-7.72 1.47 1.35L5.41 20z\"/>\n",
              "  </svg>\n",
              "      </button>\n",
              "      \n",
              "  <style>\n",
              "    .colab-df-container {\n",
              "      display:flex;\n",
              "      flex-wrap:wrap;\n",
              "      gap: 12px;\n",
              "    }\n",
              "\n",
              "    .colab-df-convert {\n",
              "      background-color: #E8F0FE;\n",
              "      border: none;\n",
              "      border-radius: 50%;\n",
              "      cursor: pointer;\n",
              "      display: none;\n",
              "      fill: #1967D2;\n",
              "      height: 32px;\n",
              "      padding: 0 0 0 0;\n",
              "      width: 32px;\n",
              "    }\n",
              "\n",
              "    .colab-df-convert:hover {\n",
              "      background-color: #E2EBFA;\n",
              "      box-shadow: 0px 1px 2px rgba(60, 64, 67, 0.3), 0px 1px 3px 1px rgba(60, 64, 67, 0.15);\n",
              "      fill: #174EA6;\n",
              "    }\n",
              "\n",
              "    [theme=dark] .colab-df-convert {\n",
              "      background-color: #3B4455;\n",
              "      fill: #D2E3FC;\n",
              "    }\n",
              "\n",
              "    [theme=dark] .colab-df-convert:hover {\n",
              "      background-color: #434B5C;\n",
              "      box-shadow: 0px 1px 3px 1px rgba(0, 0, 0, 0.15);\n",
              "      filter: drop-shadow(0px 1px 2px rgba(0, 0, 0, 0.3));\n",
              "      fill: #FFFFFF;\n",
              "    }\n",
              "  </style>\n",
              "\n",
              "      <script>\n",
              "        const buttonEl =\n",
              "          document.querySelector('#df-b7d08ef9-d300-49d2-926c-8625d6d18b2f button.colab-df-convert');\n",
              "        buttonEl.style.display =\n",
              "          google.colab.kernel.accessAllowed ? 'block' : 'none';\n",
              "\n",
              "        async function convertToInteractive(key) {\n",
              "          const element = document.querySelector('#df-b7d08ef9-d300-49d2-926c-8625d6d18b2f');\n",
              "          const dataTable =\n",
              "            await google.colab.kernel.invokeFunction('convertToInteractive',\n",
              "                                                     [key], {});\n",
              "          if (!dataTable) return;\n",
              "\n",
              "          const docLinkHtml = 'Like what you see? Visit the ' +\n",
              "            '<a target=\"_blank\" href=https://colab.research.google.com/notebooks/data_table.ipynb>data table notebook</a>'\n",
              "            + ' to learn more about interactive tables.';\n",
              "          element.innerHTML = '';\n",
              "          dataTable['output_type'] = 'display_data';\n",
              "          await google.colab.output.renderOutput(dataTable, element);\n",
              "          const docLink = document.createElement('div');\n",
              "          docLink.innerHTML = docLinkHtml;\n",
              "          element.appendChild(docLink);\n",
              "        }\n",
              "      </script>\n",
              "    </div>\n",
              "  </div>\n",
              "  "
            ]
          },
          "metadata": {},
          "execution_count": 223
        }
      ],
      "source": [
        "X.head()"
      ],
      "id": "04178919-8bab-48b3-be9c-f1d1be76bc59"
    },
    {
      "cell_type": "code",
      "execution_count": null,
      "metadata": {
        "colab": {
          "base_uri": "https://localhost:8080/",
          "height": 443
        },
        "id": "9ae3e670-4d0d-497e-9d93-6059fc03a616",
        "outputId": "5915a544-dc7a-404f-c6ee-c5c196a77956"
      },
      "outputs": [
        {
          "output_type": "display_data",
          "data": {
            "text/plain": [
              "<Figure size 936x504 with 1 Axes>"
            ],
            "image/png": "[encoded data removed]"
          },
          "metadata": {
            "needs_background": "light"
          }
        }
      ],
      "source": [
        "def plot_bar(coefs, names):\n",
        "    assert coefs.shape[0] == len(names)#ошибка если не true\n",
        "    weights_df = pd.DataFrame(zip(coefs, names),\n",
        "                              columns=['weight', 'feature_name'])\n",
        "    fig, ax = plt.subplots(figsize=(weights_df.shape[0] * 1, 7))\n",
        "    sns.barplot(ax=ax, x=\"feature_name\", y=\"weight\", data=weights_df)\n",
        "    return weights_df\n",
        "\n",
        "weights_df = plot_bar(lr.coef_, X.columns)"
      ],
      "id": "9ae3e670-4d0d-497e-9d93-6059fc03a616"
    },
    {
      "cell_type": "code",
      "execution_count": null,
      "metadata": {
        "colab": {
          "base_uri": "https://localhost:8080/"
        },
        "id": "5b62976d-3c8e-40c5-92c9-009719ed4ec8",
        "outputId": "2c7c45fe-312a-46a0-c107-662f0ead971a"
      },
      "outputs": [
        {
          "output_type": "execute_result",
          "data": {
            "text/plain": [
              "array([-1.10834602,  0.80843998,  0.34313466,  0.81386426, -1.79804295,\n",
              "        2.913858  , -0.29893918, -2.94251148,  2.09419303, -1.44706731,\n",
              "       -2.05232232,  1.02375187, -3.88579002])"
            ]
          },
          "metadata": {},
          "execution_count": 225
        }
      ],
      "source": [
        "lr.coef_"
      ],
      "id": "5b62976d-3c8e-40c5-92c9-009719ed4ec8"
    },
    {
      "cell_type": "markdown",
      "metadata": {
        "id": "72bf1eca-051d-4476-89a9-59b2e5e82bdb"
      },
      "source": [
        "Мы получили веса каждого признака - это те числа, с которыми признаки умножаются и складываются, чтобы получить прогноз.\n",
        "\n",
        "Знак найденных весов говорит об эффекте влияния признака на целевую переменную.\n",
        "\n",
        "Например, чем больше значение признака ```NOX``` (концентрация оксидов серы в воздухе), тем ниже цена на жилье в этом районе.\n",
        "\n",
        "Величина веса показывает его важность относительно других признаков"
      ],
      "id": "72bf1eca-051d-4476-89a9-59b2e5e82bdb"
    },
    {
      "cell_type": "markdown",
      "metadata": {
        "id": "80107bcf-c652-4ed5-8e74-50a608bd9d88"
      },
      "source": [
        "**Как проинтерпретировать полученные важности признаков?**"
      ],
      "id": "80107bcf-c652-4ed5-8e74-50a608bd9d88"
    },
    {
      "cell_type": "markdown",
      "metadata": {
        "id": "c4fb862c-1c8b-4789-bea2-cf31a0e61a1f"
      },
      "source": [
        "# Метрики в задаче регрессии"
      ],
      "id": "c4fb862c-1c8b-4789-bea2-cf31a0e61a1f"
    },
    {
      "cell_type": "markdown",
      "metadata": {
        "id": "a5c217e1-ba55-4571-b14f-a661bcd34ecf"
      },
      "source": [
        "## Стандартные метрики регрессии\n",
        "\n",
        "- Общая концепция - $\\frac1n \\sum\\limits_{i=1}^n L(a(x_i), y_i)$\n",
        "\n",
        "-  MAE - Mean Absolute Error - $\\frac1n \\sum\\limits_{i=1}^n |a(x_i) - y_i|$\n",
        "\n",
        "- MSE - Mean Squared Error - $\\frac1n \\sum\\limits_{i=1}^n (a(x_i) - y_i)^2$\n",
        "\n",
        "- MAPE - Mean Absolute Percentage Error - $\\frac1n \\sum\\limits_{i=1}^n \\frac{|a(x_i) - y_i|}{y_i}$\n",
        "\n",
        "- sMAPE - symmetric Mean Absolute Percentage Error - $\\frac2n \\sum\\limits_{i=1}^n \\frac{|a(x_i) - y_i|}{a(x_i) + y_i}$"
      ],
      "id": "a5c217e1-ba55-4571-b14f-a661bcd34ecf"
    },
    {
      "cell_type": "markdown",
      "metadata": {
        "id": "e5cb1ec6-537e-48f9-856f-fdf8c0ee02b2"
      },
      "source": [
        "### Несколько свойств оптимизации метрик регрессии\n",
        "\n",
        "- $\\sum\\limits_{i=1}^n \\left(a(x_i) - y_i\\right)^2 \\to \\min \\implies a(x_i) \\approx E(y \\mid x = x_i)$\n",
        "\n",
        "- $\\sum\\limits_{i=1}^n \\left|~a(x_i) - y_i~\\right| \\to \\min \\implies a(x_i) \\approx median(y \\mid x = x_i)$"
      ],
      "id": "e5cb1ec6-537e-48f9-856f-fdf8c0ee02b2"
    },
    {
      "cell_type": "markdown",
      "metadata": {
        "id": "4114db58-dc8c-4b57-b479-7f6ec5e80a69"
      },
      "source": [
        "Давайте теперь реализуем эти метрики с помощью Numpy"
      ],
      "id": "4114db58-dc8c-4b57-b479-7f6ec5e80a69"
    },
    {
      "cell_type": "code",
      "execution_count": null,
      "metadata": {
        "id": "cea78880-5d42-469f-9e49-d9e0f669cc36"
      },
      "outputs": [],
      "source": [
        "y_true = np.array([4, 5, 8])\n",
        "\n",
        "y_pred_fst = np.array([4.5, 5.3, 7.4])\n",
        "\n",
        "y_pred_snd = np.array([4.1, 4.9, 11.5])"
      ],
      "id": "cea78880-5d42-469f-9e49-d9e0f669cc36"
    },
    {
      "cell_type": "code",
      "execution_count": null,
      "metadata": {
        "id": "007baa88-e7a7-4d12-aaf3-69276991a355"
      },
      "outputs": [],
      "source": [
        "def MSE(y_true, y_pred):\n",
        "    return np.power(y_true - y_pred, 2).mean()"
      ],
      "id": "007baa88-e7a7-4d12-aaf3-69276991a355"
    },
    {
      "cell_type": "code",
      "execution_count": null,
      "metadata": {
        "id": "9fe03dfc-e8cc-4866-bcc0-45307a03cf13"
      },
      "outputs": [],
      "source": [
        "def MAE(y_true, y_pred):\n",
        "    return np.absolute(y_true - y_pred).mean()"
      ],
      "id": "9fe03dfc-e8cc-4866-bcc0-45307a03cf13"
    },
    {
      "cell_type": "code",
      "execution_count": null,
      "metadata": {
        "id": "8449e2db-e3c7-4510-8429-c4a8fe7e78de"
      },
      "outputs": [],
      "source": [
        "def MAPE(y_true, y_pred):\n",
        "    return (np.absolute(y_true - y_pred)/y_true).mean()"
      ],
      "id": "8449e2db-e3c7-4510-8429-c4a8fe7e78de"
    },
    {
      "cell_type": "code",
      "execution_count": null,
      "metadata": {
        "colab": {
          "base_uri": "https://localhost:8080/"
        },
        "id": "f5dd77f9-23d3-4c57-ac00-9a8fc83c187b",
        "outputId": "3b00ea1e-b90c-4bab-ff0d-002ee503a5fe"
      },
      "outputs": [
        {
          "output_type": "execute_result",
          "data": {
            "text/plain": [
              "0.23333333333333317"
            ]
          },
          "metadata": {},
          "execution_count": 230
        }
      ],
      "source": [
        "MSE(y_true, y_pred_fst)"
      ],
      "id": "f5dd77f9-23d3-4c57-ac00-9a8fc83c187b"
    },
    {
      "cell_type": "code",
      "execution_count": null,
      "metadata": {
        "colab": {
          "base_uri": "https://localhost:8080/"
        },
        "id": "afe57d5e-05c3-4832-8218-b4edfe0090d4",
        "outputId": "995426a8-001e-4926-8365-69bd009fede7"
      },
      "outputs": [
        {
          "output_type": "execute_result",
          "data": {
            "text/plain": [
              "4.09"
            ]
          },
          "metadata": {},
          "execution_count": 231
        }
      ],
      "source": [
        "MSE(y_true, y_pred_snd)"
      ],
      "id": "afe57d5e-05c3-4832-8218-b4edfe0090d4"
    },
    {
      "cell_type": "code",
      "execution_count": null,
      "metadata": {
        "colab": {
          "base_uri": "https://localhost:8080/"
        },
        "id": "c2bffe91-176b-4da3-a5f3-668957d97907",
        "outputId": "ea2ca283-5546-44f8-c947-c950d0e2929c"
      },
      "outputs": [
        {
          "output_type": "execute_result",
          "data": {
            "text/plain": [
              "0.4666666666666665"
            ]
          },
          "metadata": {},
          "execution_count": 232
        }
      ],
      "source": [
        "MAE(y_true, y_pred_fst)"
      ],
      "id": "c2bffe91-176b-4da3-a5f3-668957d97907"
    },
    {
      "cell_type": "code",
      "execution_count": null,
      "metadata": {
        "colab": {
          "base_uri": "https://localhost:8080/"
        },
        "id": "750452d8-8fd8-4009-982e-a79e35ee7ebe",
        "outputId": "dd5f6c51-3b22-4b62-8319-0fa3cd3231d9"
      },
      "outputs": [
        {
          "output_type": "execute_result",
          "data": {
            "text/plain": [
              "1.2333333333333332"
            ]
          },
          "metadata": {},
          "execution_count": 233
        }
      ],
      "source": [
        "MAE(y_true, y_pred_snd)"
      ],
      "id": "750452d8-8fd8-4009-982e-a79e35ee7ebe"
    },
    {
      "cell_type": "code",
      "source": [
        "MAPE(y_true, y_pred_fst)"
      ],
      "metadata": {
        "colab": {
          "base_uri": "https://localhost:8080/"
        },
        "id": "4hywiWj8Y7FQ",
        "outputId": "3420ee20-7701-492d-e3c5-372e5f88cfc6"
      },
      "id": "4hywiWj8Y7FQ",
      "execution_count": null,
      "outputs": [
        {
          "output_type": "execute_result",
          "data": {
            "text/plain": [
              "0.08666666666666663"
            ]
          },
          "metadata": {},
          "execution_count": 234
        }
      ]
    },
    {
      "cell_type": "code",
      "source": [
        "MAPE(y_true, y_pred_snd)"
      ],
      "metadata": {
        "colab": {
          "base_uri": "https://localhost:8080/"
        },
        "id": "pwOeNXLMY7H2",
        "outputId": "2e8a2851-6377-4ff0-e8ce-2d651fa12a31"
      },
      "id": "pwOeNXLMY7H2",
      "execution_count": null,
      "outputs": [
        {
          "output_type": "execute_result",
          "data": {
            "text/plain": [
              "0.16083333333333327"
            ]
          },
          "metadata": {},
          "execution_count": 235
        }
      ]
    },
    {
      "cell_type": "markdown",
      "metadata": {
        "id": "b3e09cf1-db51-4930-b1ba-4af5edf073e7"
      },
      "source": [
        "## Устойчивость метрик к выбросам"
      ],
      "id": "b3e09cf1-db51-4930-b1ba-4af5edf073e7"
    },
    {
      "cell_type": "markdown",
      "metadata": {
        "id": "9aa87feb-485e-4a3c-abb5-eea5dc50f211"
      },
      "source": [
        "Сгенерируем датасет из 500 точек на плоскости, для которых $y = 0.5x +1+ \\epsilon$ \",где $\\epsilon$ распределено нормально с матожиданием 0 и дисперсией 0.2."
      ],
      "id": "9aa87feb-485e-4a3c-abb5-eea5dc50f211"
    },
    {
      "cell_type": "code",
      "execution_count": null,
      "metadata": {
        "id": "5571897b-f44a-425a-880c-05950fa32b41"
      },
      "outputs": [],
      "source": [
        "import numpy as np\n",
        "from matplotlib import pyplot as plt"
      ],
      "id": "5571897b-f44a-425a-880c-05950fa32b41"
    },
    {
      "cell_type": "code",
      "execution_count": null,
      "metadata": {
        "id": "36e189cc-b6e6-4a78-a26e-a95bb36bfcfb"
      },
      "outputs": [],
      "source": [
        "mu, sigma = 0, 0.2\n",
        "n = 500"
      ],
      "id": "36e189cc-b6e6-4a78-a26e-a95bb36bfcfb"
    },
    {
      "cell_type": "code",
      "execution_count": null,
      "metadata": {
        "id": "b059bcf4-fbc0-40cd-9eaf-54b56700debb"
      },
      "outputs": [],
      "source": [
        "x = np.linspace(0, 10, n)"
      ],
      "id": "b059bcf4-fbc0-40cd-9eaf-54b56700debb"
    },
    {
      "cell_type": "code",
      "execution_count": null,
      "metadata": {
        "id": "82c5b8e7-6805-42cd-980c-a46a133317d4"
      },
      "outputs": [],
      "source": [
        "# f(x) = 0.5x+1+epsilon,   epsilon in N(mu, sigma)\n",
        "def f(x):\n",
        "    random = np.random.normal(mu, sigma, n)\n",
        "    return 0.5 * x + 1 + random"
      ],
      "id": "82c5b8e7-6805-42cd-980c-a46a133317d4"
    },
    {
      "cell_type": "markdown",
      "metadata": {
        "id": "f4d7e4d7-d930-40ed-8d7e-9a96f7049b36"
      },
      "source": [
        "1) Визуализируем выборку"
      ],
      "id": "f4d7e4d7-d930-40ed-8d7e-9a96f7049b36"
    },
    {
      "cell_type": "code",
      "execution_count": null,
      "metadata": {
        "colab": {
          "base_uri": "https://localhost:8080/",
          "height": 554
        },
        "id": "d7bf7b3c-0b5c-4889-9362-5d6c52726da6",
        "outputId": "8e09c87c-f794-4c12-abe0-e9fa32e4e6b5"
      },
      "outputs": [
        {
          "output_type": "stream",
          "name": "stderr",
          "text": [
            "WARNING:matplotlib.legend:No handles with labels found to put in legend.\n"
          ]
        },
        {
          "output_type": "execute_result",
          "data": {
            "text/plain": [
              "<matplotlib.legend.Legend at 0x7f56cd6fe5d0>"
            ]
          },
          "metadata": {},
          "execution_count": 240
        },
        {
          "output_type": "display_data",
          "data": {
            "text/plain": [
              "<Figure size 720x576 with 1 Axes>"
            ],
            "image/png": "[encoded data removed]"
          },
          "metadata": {
            "needs_background": "light"
          }
        }
      ],
      "source": [
        "plt.figure(figsize=(10,8))\n",
        "plt.scatter(x, f(x))\n",
        "plt.xlabel(r\"Number of neighbors, $k$\", fontsize=20)\n",
        "plt.ylabel(r\"Accuracy\", fontsize=20)\n",
        "plt.yscale('linear')\n",
        "plt.xticks(fontsize = 20)\n",
        "plt.yticks(fontsize = 20)\n",
        "plt.legend(loc=\"best\", fontsize=20)"
      ],
      "id": "d7bf7b3c-0b5c-4889-9362-5d6c52726da6"
    },
    {
      "cell_type": "markdown",
      "metadata": {
        "id": "4f2e873d-18da-4ffa-81e8-14a472a4e1a3"
      },
      "source": [
        "2) Восстановите по выборке зависимость $y(x)$, считая, что зависимость имеет вид $y = kx+b$, и минимизируя MSE на обучающей выборке, воспользовавшись scipy.optimize.minimize. Визуализируйте восстановленную прямую."
      ],
      "id": "4f2e873d-18da-4ffa-81e8-14a472a4e1a3"
    },
    {
      "cell_type": "code",
      "execution_count": null,
      "metadata": {
        "id": "8c047fe6-4bf8-4bb0-a11e-05dc85b68f0c"
      },
      "outputs": [],
      "source": [
        "from sklearn.metrics import mean_squared_error"
      ],
      "id": "8c047fe6-4bf8-4bb0-a11e-05dc85b68f0c"
    },
    {
      "cell_type": "code",
      "execution_count": null,
      "metadata": {
        "collapsed": true,
        "id": "13eda40d-6dcd-428e-888e-4ef2aed59267",
        "colab": {
          "base_uri": "https://localhost:8080/"
        },
        "outputId": "16514101-184e-43de-e606-cd427be8c077"
      },
      "outputs": [
        {
          "output_type": "execute_result",
          "data": {
            "text/plain": [
              "array([ 0.        ,  0.02004008,  0.04008016,  0.06012024,  0.08016032,\n",
              "        0.1002004 ,  0.12024048,  0.14028056,  0.16032064,  0.18036072,\n",
              "        0.2004008 ,  0.22044088,  0.24048096,  0.26052104,  0.28056112,\n",
              "        0.3006012 ,  0.32064128,  0.34068136,  0.36072144,  0.38076152,\n",
              "        0.4008016 ,  0.42084168,  0.44088176,  0.46092184,  0.48096192,\n",
              "        0.501002  ,  0.52104208,  0.54108216,  0.56112224,  0.58116232,\n",
              "        0.6012024 ,  0.62124248,  0.64128257,  0.66132265,  0.68136273,\n",
              "        0.70140281,  0.72144289,  0.74148297,  0.76152305,  0.78156313,\n",
              "        0.80160321,  0.82164329,  0.84168337,  0.86172345,  0.88176353,\n",
              "        0.90180361,  0.92184369,  0.94188377,  0.96192385,  0.98196393,\n",
              "        1.00200401,  1.02204409,  1.04208417,  1.06212425,  1.08216433,\n",
              "        1.10220441,  1.12224449,  1.14228457,  1.16232465,  1.18236473,\n",
              "        1.20240481,  1.22244489,  1.24248497,  1.26252505,  1.28256513,\n",
              "        1.30260521,  1.32264529,  1.34268537,  1.36272545,  1.38276553,\n",
              "        1.40280561,  1.42284569,  1.44288577,  1.46292585,  1.48296593,\n",
              "        1.50300601,  1.52304609,  1.54308617,  1.56312625,  1.58316633,\n",
              "        1.60320641,  1.62324649,  1.64328657,  1.66332665,  1.68336673,\n",
              "        1.70340681,  1.72344689,  1.74348697,  1.76352705,  1.78356713,\n",
              "        1.80360721,  1.82364729,  1.84368737,  1.86372745,  1.88376754,\n",
              "        1.90380762,  1.9238477 ,  1.94388778,  1.96392786,  1.98396794,\n",
              "        2.00400802,  2.0240481 ,  2.04408818,  2.06412826,  2.08416834,\n",
              "        2.10420842,  2.1242485 ,  2.14428858,  2.16432866,  2.18436874,\n",
              "        2.20440882,  2.2244489 ,  2.24448898,  2.26452906,  2.28456914,\n",
              "        2.30460922,  2.3246493 ,  2.34468938,  2.36472946,  2.38476954,\n",
              "        2.40480962,  2.4248497 ,  2.44488978,  2.46492986,  2.48496994,\n",
              "        2.50501002,  2.5250501 ,  2.54509018,  2.56513026,  2.58517034,\n",
              "        2.60521042,  2.6252505 ,  2.64529058,  2.66533066,  2.68537074,\n",
              "        2.70541082,  2.7254509 ,  2.74549098,  2.76553106,  2.78557114,\n",
              "        2.80561122,  2.8256513 ,  2.84569138,  2.86573146,  2.88577154,\n",
              "        2.90581162,  2.9258517 ,  2.94589178,  2.96593186,  2.98597194,\n",
              "        3.00601202,  3.0260521 ,  3.04609218,  3.06613226,  3.08617234,\n",
              "        3.10621242,  3.12625251,  3.14629259,  3.16633267,  3.18637275,\n",
              "        3.20641283,  3.22645291,  3.24649299,  3.26653307,  3.28657315,\n",
              "        3.30661323,  3.32665331,  3.34669339,  3.36673347,  3.38677355,\n",
              "        3.40681363,  3.42685371,  3.44689379,  3.46693387,  3.48697395,\n",
              "        3.50701403,  3.52705411,  3.54709419,  3.56713427,  3.58717435,\n",
              "        3.60721443,  3.62725451,  3.64729459,  3.66733467,  3.68737475,\n",
              "        3.70741483,  3.72745491,  3.74749499,  3.76753507,  3.78757515,\n",
              "        3.80761523,  3.82765531,  3.84769539,  3.86773547,  3.88777555,\n",
              "        3.90781563,  3.92785571,  3.94789579,  3.96793587,  3.98797595,\n",
              "        4.00801603,  4.02805611,  4.04809619,  4.06813627,  4.08817635,\n",
              "        4.10821643,  4.12825651,  4.14829659,  4.16833667,  4.18837675,\n",
              "        4.20841683,  4.22845691,  4.24849699,  4.26853707,  4.28857715,\n",
              "        4.30861723,  4.32865731,  4.34869739,  4.36873747,  4.38877756,\n",
              "        4.40881764,  4.42885772,  4.4488978 ,  4.46893788,  4.48897796,\n",
              "        4.50901804,  4.52905812,  4.5490982 ,  4.56913828,  4.58917836,\n",
              "        4.60921844,  4.62925852,  4.6492986 ,  4.66933868,  4.68937876,\n",
              "        4.70941884,  4.72945892,  4.749499  ,  4.76953908,  4.78957916,\n",
              "        4.80961924,  4.82965932,  4.8496994 ,  4.86973948,  4.88977956,\n",
              "        4.90981964,  4.92985972,  4.9498998 ,  4.96993988,  4.98997996,\n",
              "        5.01002004,  5.03006012,  5.0501002 ,  5.07014028,  5.09018036,\n",
              "        5.11022044,  5.13026052,  5.1503006 ,  5.17034068,  5.19038076,\n",
              "        5.21042084,  5.23046092,  5.250501  ,  5.27054108,  5.29058116,\n",
              "        5.31062124,  5.33066132,  5.3507014 ,  5.37074148,  5.39078156,\n",
              "        5.41082164,  5.43086172,  5.4509018 ,  5.47094188,  5.49098196,\n",
              "        5.51102204,  5.53106212,  5.5511022 ,  5.57114228,  5.59118236,\n",
              "        5.61122244,  5.63126253,  5.65130261,  5.67134269,  5.69138277,\n",
              "        5.71142285,  5.73146293,  5.75150301,  5.77154309,  5.79158317,\n",
              "        5.81162325,  5.83166333,  5.85170341,  5.87174349,  5.89178357,\n",
              "        5.91182365,  5.93186373,  5.95190381,  5.97194389,  5.99198397,\n",
              "        6.01202405,  6.03206413,  6.05210421,  6.07214429,  6.09218437,\n",
              "        6.11222445,  6.13226453,  6.15230461,  6.17234469,  6.19238477,\n",
              "        6.21242485,  6.23246493,  6.25250501,  6.27254509,  6.29258517,\n",
              "        6.31262525,  6.33266533,  6.35270541,  6.37274549,  6.39278557,\n",
              "        6.41282565,  6.43286573,  6.45290581,  6.47294589,  6.49298597,\n",
              "        6.51302605,  6.53306613,  6.55310621,  6.57314629,  6.59318637,\n",
              "        6.61322645,  6.63326653,  6.65330661,  6.67334669,  6.69338677,\n",
              "        6.71342685,  6.73346693,  6.75350701,  6.77354709,  6.79358717,\n",
              "        6.81362725,  6.83366733,  6.85370741,  6.87374749,  6.89378758,\n",
              "        6.91382766,  6.93386774,  6.95390782,  6.9739479 ,  6.99398798,\n",
              "        7.01402806,  7.03406814,  7.05410822,  7.0741483 ,  7.09418838,\n",
              "        7.11422846,  7.13426854,  7.15430862,  7.1743487 ,  7.19438878,\n",
              "        7.21442886,  7.23446894,  7.25450902,  7.2745491 ,  7.29458918,\n",
              "        7.31462926,  7.33466934,  7.35470942,  7.3747495 ,  7.39478958,\n",
              "        7.41482966,  7.43486974,  7.45490982,  7.4749499 ,  7.49498998,\n",
              "        7.51503006,  7.53507014,  7.55511022,  7.5751503 ,  7.59519038,\n",
              "        7.61523046,  7.63527054,  7.65531062,  7.6753507 ,  7.69539078,\n",
              "        7.71543086,  7.73547094,  7.75551102,  7.7755511 ,  7.79559118,\n",
              "        7.81563126,  7.83567134,  7.85571142,  7.8757515 ,  7.89579158,\n",
              "        7.91583166,  7.93587174,  7.95591182,  7.9759519 ,  7.99599198,\n",
              "        8.01603206,  8.03607214,  8.05611222,  8.0761523 ,  8.09619238,\n",
              "        8.11623246,  8.13627255,  8.15631263,  8.17635271,  8.19639279,\n",
              "        8.21643287,  8.23647295,  8.25651303,  8.27655311,  8.29659319,\n",
              "        8.31663327,  8.33667335,  8.35671343,  8.37675351,  8.39679359,\n",
              "        8.41683367,  8.43687375,  8.45691383,  8.47695391,  8.49699399,\n",
              "        8.51703407,  8.53707415,  8.55711423,  8.57715431,  8.59719439,\n",
              "        8.61723447,  8.63727455,  8.65731463,  8.67735471,  8.69739479,\n",
              "        8.71743487,  8.73747495,  8.75751503,  8.77755511,  8.79759519,\n",
              "        8.81763527,  8.83767535,  8.85771543,  8.87775551,  8.89779559,\n",
              "        8.91783567,  8.93787575,  8.95791583,  8.97795591,  8.99799599,\n",
              "        9.01803607,  9.03807615,  9.05811623,  9.07815631,  9.09819639,\n",
              "        9.11823647,  9.13827655,  9.15831663,  9.17835671,  9.19839679,\n",
              "        9.21843687,  9.23847695,  9.25851703,  9.27855711,  9.29859719,\n",
              "        9.31863727,  9.33867735,  9.35871743,  9.37875752,  9.3987976 ,\n",
              "        9.41883768,  9.43887776,  9.45891784,  9.47895792,  9.498998  ,\n",
              "        9.51903808,  9.53907816,  9.55911824,  9.57915832,  9.5991984 ,\n",
              "        9.61923848,  9.63927856,  9.65931864,  9.67935872,  9.6993988 ,\n",
              "        9.71943888,  9.73947896,  9.75951904,  9.77955912,  9.7995992 ,\n",
              "        9.81963928,  9.83967936,  9.85971944,  9.87975952,  9.8997996 ,\n",
              "        9.91983968,  9.93987976,  9.95991984,  9.97995992, 10.        ])"
            ]
          },
          "metadata": {},
          "execution_count": 242
        }
      ],
      "source": [
        "x"
      ],
      "id": "13eda40d-6dcd-428e-888e-4ef2aed59267"
    },
    {
      "cell_type": "code",
      "execution_count": null,
      "metadata": {
        "id": "65c149ba-d48e-4ce7-bbef-0d664dee43d3",
        "colab": {
          "base_uri": "https://localhost:8080/"
        },
        "outputId": "f2708be8-0513-44c3-ca92-d6b3eaf53e91"
      },
      "outputs": [
        {
          "output_type": "execute_result",
          "data": {
            "text/plain": [
              "array([[ 0.        ,  1.        ],\n",
              "       [ 0.02004008,  1.        ],\n",
              "       [ 0.04008016,  1.        ],\n",
              "       [ 0.06012024,  1.        ],\n",
              "       [ 0.08016032,  1.        ],\n",
              "       [ 0.1002004 ,  1.        ],\n",
              "       [ 0.12024048,  1.        ],\n",
              "       [ 0.14028056,  1.        ],\n",
              "       [ 0.16032064,  1.        ],\n",
              "       [ 0.18036072,  1.        ],\n",
              "       [ 0.2004008 ,  1.        ],\n",
              "       [ 0.22044088,  1.        ],\n",
              "       [ 0.24048096,  1.        ],\n",
              "       [ 0.26052104,  1.        ],\n",
              "       [ 0.28056112,  1.        ],\n",
              "       [ 0.3006012 ,  1.        ],\n",
              "       [ 0.32064128,  1.        ],\n",
              "       [ 0.34068136,  1.        ],\n",
              "       [ 0.36072144,  1.        ],\n",
              "       [ 0.38076152,  1.        ],\n",
              "       [ 0.4008016 ,  1.        ],\n",
              "       [ 0.42084168,  1.        ],\n",
              "       [ 0.44088176,  1.        ],\n",
              "       [ 0.46092184,  1.        ],\n",
              "       [ 0.48096192,  1.        ],\n",
              "       [ 0.501002  ,  1.        ],\n",
              "       [ 0.52104208,  1.        ],\n",
              "       [ 0.54108216,  1.        ],\n",
              "       [ 0.56112224,  1.        ],\n",
              "       [ 0.58116232,  1.        ],\n",
              "       [ 0.6012024 ,  1.        ],\n",
              "       [ 0.62124248,  1.        ],\n",
              "       [ 0.64128257,  1.        ],\n",
              "       [ 0.66132265,  1.        ],\n",
              "       [ 0.68136273,  1.        ],\n",
              "       [ 0.70140281,  1.        ],\n",
              "       [ 0.72144289,  1.        ],\n",
              "       [ 0.74148297,  1.        ],\n",
              "       [ 0.76152305,  1.        ],\n",
              "       [ 0.78156313,  1.        ],\n",
              "       [ 0.80160321,  1.        ],\n",
              "       [ 0.82164329,  1.        ],\n",
              "       [ 0.84168337,  1.        ],\n",
              "       [ 0.86172345,  1.        ],\n",
              "       [ 0.88176353,  1.        ],\n",
              "       [ 0.90180361,  1.        ],\n",
              "       [ 0.92184369,  1.        ],\n",
              "       [ 0.94188377,  1.        ],\n",
              "       [ 0.96192385,  1.        ],\n",
              "       [ 0.98196393,  1.        ],\n",
              "       [ 1.00200401,  1.        ],\n",
              "       [ 1.02204409,  1.        ],\n",
              "       [ 1.04208417,  1.        ],\n",
              "       [ 1.06212425,  1.        ],\n",
              "       [ 1.08216433,  1.        ],\n",
              "       [ 1.10220441,  1.        ],\n",
              "       [ 1.12224449,  1.        ],\n",
              "       [ 1.14228457,  1.        ],\n",
              "       [ 1.16232465,  1.        ],\n",
              "       [ 1.18236473,  1.        ],\n",
              "       [ 1.20240481,  1.        ],\n",
              "       [ 1.22244489,  1.        ],\n",
              "       [ 1.24248497,  1.        ],\n",
              "       [ 1.26252505,  1.        ],\n",
              "       [ 1.28256513,  1.        ],\n",
              "       [ 1.30260521,  1.        ],\n",
              "       [ 1.32264529,  1.        ],\n",
              "       [ 1.34268537,  1.        ],\n",
              "       [ 1.36272545,  1.        ],\n",
              "       [ 1.38276553,  1.        ],\n",
              "       [ 1.40280561,  1.        ],\n",
              "       [ 1.42284569,  1.        ],\n",
              "       [ 1.44288577,  1.        ],\n",
              "       [ 1.46292585,  1.        ],\n",
              "       [ 1.48296593,  1.        ],\n",
              "       [ 1.50300601,  1.        ],\n",
              "       [ 1.52304609,  1.        ],\n",
              "       [ 1.54308617,  1.        ],\n",
              "       [ 1.56312625,  1.        ],\n",
              "       [ 1.58316633,  1.        ],\n",
              "       [ 1.60320641,  1.        ],\n",
              "       [ 1.62324649,  1.        ],\n",
              "       [ 1.64328657,  1.        ],\n",
              "       [ 1.66332665,  1.        ],\n",
              "       [ 1.68336673,  1.        ],\n",
              "       [ 1.70340681,  1.        ],\n",
              "       [ 1.72344689,  1.        ],\n",
              "       [ 1.74348697,  1.        ],\n",
              "       [ 1.76352705,  1.        ],\n",
              "       [ 1.78356713,  1.        ],\n",
              "       [ 1.80360721,  1.        ],\n",
              "       [ 1.82364729,  1.        ],\n",
              "       [ 1.84368737,  1.        ],\n",
              "       [ 1.86372745,  1.        ],\n",
              "       [ 1.88376754,  1.        ],\n",
              "       [ 1.90380762,  1.        ],\n",
              "       [ 1.9238477 ,  1.        ],\n",
              "       [ 1.94388778,  1.        ],\n",
              "       [ 1.96392786,  1.        ],\n",
              "       [ 1.98396794,  1.        ],\n",
              "       [ 2.00400802,  1.        ],\n",
              "       [ 2.0240481 ,  1.        ],\n",
              "       [ 2.04408818,  1.        ],\n",
              "       [ 2.06412826,  1.        ],\n",
              "       [ 2.08416834,  1.        ],\n",
              "       [ 2.10420842,  1.        ],\n",
              "       [ 2.1242485 ,  1.        ],\n",
              "       [ 2.14428858,  1.        ],\n",
              "       [ 2.16432866,  1.        ],\n",
              "       [ 2.18436874,  1.        ],\n",
              "       [ 2.20440882,  1.        ],\n",
              "       [ 2.2244489 ,  1.        ],\n",
              "       [ 2.24448898,  1.        ],\n",
              "       [ 2.26452906,  1.        ],\n",
              "       [ 2.28456914,  1.        ],\n",
              "       [ 2.30460922,  1.        ],\n",
              "       [ 2.3246493 ,  1.        ],\n",
              "       [ 2.34468938,  1.        ],\n",
              "       [ 2.36472946,  1.        ],\n",
              "       [ 2.38476954,  1.        ],\n",
              "       [ 2.40480962,  1.        ],\n",
              "       [ 2.4248497 ,  1.        ],\n",
              "       [ 2.44488978,  1.        ],\n",
              "       [ 2.46492986,  1.        ],\n",
              "       [ 2.48496994,  1.        ],\n",
              "       [ 2.50501002,  1.        ],\n",
              "       [ 2.5250501 ,  1.        ],\n",
              "       [ 2.54509018,  1.        ],\n",
              "       [ 2.56513026,  1.        ],\n",
              "       [ 2.58517034,  1.        ],\n",
              "       [ 2.60521042,  1.        ],\n",
              "       [ 2.6252505 ,  1.        ],\n",
              "       [ 2.64529058,  1.        ],\n",
              "       [ 2.66533066,  1.        ],\n",
              "       [ 2.68537074,  1.        ],\n",
              "       [ 2.70541082,  1.        ],\n",
              "       [ 2.7254509 ,  1.        ],\n",
              "       [ 2.74549098,  1.        ],\n",
              "       [ 2.76553106,  1.        ],\n",
              "       [ 2.78557114,  1.        ],\n",
              "       [ 2.80561122,  1.        ],\n",
              "       [ 2.8256513 ,  1.        ],\n",
              "       [ 2.84569138,  1.        ],\n",
              "       [ 2.86573146,  1.        ],\n",
              "       [ 2.88577154,  1.        ],\n",
              "       [ 2.90581162,  1.        ],\n",
              "       [ 2.9258517 ,  1.        ],\n",
              "       [ 2.94589178,  1.        ],\n",
              "       [ 2.96593186,  1.        ],\n",
              "       [ 2.98597194,  1.        ],\n",
              "       [ 3.00601202,  1.        ],\n",
              "       [ 3.0260521 ,  1.        ],\n",
              "       [ 3.04609218,  1.        ],\n",
              "       [ 3.06613226,  1.        ],\n",
              "       [ 3.08617234,  1.        ],\n",
              "       [ 3.10621242,  1.        ],\n",
              "       [ 3.12625251,  1.        ],\n",
              "       [ 3.14629259,  1.        ],\n",
              "       [ 3.16633267,  1.        ],\n",
              "       [ 3.18637275,  1.        ],\n",
              "       [ 3.20641283,  1.        ],\n",
              "       [ 3.22645291,  1.        ],\n",
              "       [ 3.24649299,  1.        ],\n",
              "       [ 3.26653307,  1.        ],\n",
              "       [ 3.28657315,  1.        ],\n",
              "       [ 3.30661323,  1.        ],\n",
              "       [ 3.32665331,  1.        ],\n",
              "       [ 3.34669339,  1.        ],\n",
              "       [ 3.36673347,  1.        ],\n",
              "       [ 3.38677355,  1.        ],\n",
              "       [ 3.40681363,  1.        ],\n",
              "       [ 3.42685371,  1.        ],\n",
              "       [ 3.44689379,  1.        ],\n",
              "       [ 3.46693387,  1.        ],\n",
              "       [ 3.48697395,  1.        ],\n",
              "       [ 3.50701403,  1.        ],\n",
              "       [ 3.52705411,  1.        ],\n",
              "       [ 3.54709419,  1.        ],\n",
              "       [ 3.56713427,  1.        ],\n",
              "       [ 3.58717435,  1.        ],\n",
              "       [ 3.60721443,  1.        ],\n",
              "       [ 3.62725451,  1.        ],\n",
              "       [ 3.64729459,  1.        ],\n",
              "       [ 3.66733467,  1.        ],\n",
              "       [ 3.68737475,  1.        ],\n",
              "       [ 3.70741483,  1.        ],\n",
              "       [ 3.72745491,  1.        ],\n",
              "       [ 3.74749499,  1.        ],\n",
              "       [ 3.76753507,  1.        ],\n",
              "       [ 3.78757515,  1.        ],\n",
              "       [ 3.80761523,  1.        ],\n",
              "       [ 3.82765531,  1.        ],\n",
              "       [ 3.84769539,  1.        ],\n",
              "       [ 3.86773547,  1.        ],\n",
              "       [ 3.88777555,  1.        ],\n",
              "       [ 3.90781563,  1.        ],\n",
              "       [ 3.92785571,  1.        ],\n",
              "       [ 3.94789579,  1.        ],\n",
              "       [ 3.96793587,  1.        ],\n",
              "       [ 3.98797595,  1.        ],\n",
              "       [ 4.00801603,  1.        ],\n",
              "       [ 4.02805611,  1.        ],\n",
              "       [ 4.04809619,  1.        ],\n",
              "       [ 4.06813627,  1.        ],\n",
              "       [ 4.08817635,  1.        ],\n",
              "       [ 4.10821643,  1.        ],\n",
              "       [ 4.12825651,  1.        ],\n",
              "       [ 4.14829659,  1.        ],\n",
              "       [ 4.16833667,  1.        ],\n",
              "       [ 4.18837675,  1.        ],\n",
              "       [ 4.20841683,  1.        ],\n",
              "       [ 4.22845691,  1.        ],\n",
              "       [ 4.24849699,  1.        ],\n",
              "       [ 4.26853707,  1.        ],\n",
              "       [ 4.28857715,  1.        ],\n",
              "       [ 4.30861723,  1.        ],\n",
              "       [ 4.32865731,  1.        ],\n",
              "       [ 4.34869739,  1.        ],\n",
              "       [ 4.36873747,  1.        ],\n",
              "       [ 4.38877756,  1.        ],\n",
              "       [ 4.40881764,  1.        ],\n",
              "       [ 4.42885772,  1.        ],\n",
              "       [ 4.4488978 ,  1.        ],\n",
              "       [ 4.46893788,  1.        ],\n",
              "       [ 4.48897796,  1.        ],\n",
              "       [ 4.50901804,  1.        ],\n",
              "       [ 4.52905812,  1.        ],\n",
              "       [ 4.5490982 ,  1.        ],\n",
              "       [ 4.56913828,  1.        ],\n",
              "       [ 4.58917836,  1.        ],\n",
              "       [ 4.60921844,  1.        ],\n",
              "       [ 4.62925852,  1.        ],\n",
              "       [ 4.6492986 ,  1.        ],\n",
              "       [ 4.66933868,  1.        ],\n",
              "       [ 4.68937876,  1.        ],\n",
              "       [ 4.70941884,  1.        ],\n",
              "       [ 4.72945892,  1.        ],\n",
              "       [ 4.749499  ,  1.        ],\n",
              "       [ 4.76953908,  1.        ],\n",
              "       [ 4.78957916,  1.        ],\n",
              "       [ 4.80961924,  1.        ],\n",
              "       [ 4.82965932,  1.        ],\n",
              "       [ 4.8496994 ,  1.        ],\n",
              "       [ 4.86973948,  1.        ],\n",
              "       [ 4.88977956,  1.        ],\n",
              "       [ 4.90981964,  1.        ],\n",
              "       [ 4.92985972,  1.        ],\n",
              "       [ 4.9498998 ,  1.        ],\n",
              "       [ 4.96993988,  1.        ],\n",
              "       [ 4.98997996,  1.        ],\n",
              "       [ 5.01002004,  1.        ],\n",
              "       [ 5.03006012,  1.        ],\n",
              "       [ 5.0501002 ,  1.        ],\n",
              "       [ 5.07014028,  1.        ],\n",
              "       [ 5.09018036,  1.        ],\n",
              "       [ 5.11022044,  1.        ],\n",
              "       [ 5.13026052,  1.        ],\n",
              "       [ 5.1503006 ,  1.        ],\n",
              "       [ 5.17034068,  1.        ],\n",
              "       [ 5.19038076,  1.        ],\n",
              "       [ 5.21042084,  1.        ],\n",
              "       [ 5.23046092,  1.        ],\n",
              "       [ 5.250501  ,  1.        ],\n",
              "       [ 5.27054108,  1.        ],\n",
              "       [ 5.29058116,  1.        ],\n",
              "       [ 5.31062124,  1.        ],\n",
              "       [ 5.33066132,  1.        ],\n",
              "       [ 5.3507014 ,  1.        ],\n",
              "       [ 5.37074148,  1.        ],\n",
              "       [ 5.39078156,  1.        ],\n",
              "       [ 5.41082164,  1.        ],\n",
              "       [ 5.43086172,  1.        ],\n",
              "       [ 5.4509018 ,  1.        ],\n",
              "       [ 5.47094188,  1.        ],\n",
              "       [ 5.49098196,  1.        ],\n",
              "       [ 5.51102204,  1.        ],\n",
              "       [ 5.53106212,  1.        ],\n",
              "       [ 5.5511022 ,  1.        ],\n",
              "       [ 5.57114228,  1.        ],\n",
              "       [ 5.59118236,  1.        ],\n",
              "       [ 5.61122244,  1.        ],\n",
              "       [ 5.63126253,  1.        ],\n",
              "       [ 5.65130261,  1.        ],\n",
              "       [ 5.67134269,  1.        ],\n",
              "       [ 5.69138277,  1.        ],\n",
              "       [ 5.71142285,  1.        ],\n",
              "       [ 5.73146293,  1.        ],\n",
              "       [ 5.75150301,  1.        ],\n",
              "       [ 5.77154309,  1.        ],\n",
              "       [ 5.79158317,  1.        ],\n",
              "       [ 5.81162325,  1.        ],\n",
              "       [ 5.83166333,  1.        ],\n",
              "       [ 5.85170341,  1.        ],\n",
              "       [ 5.87174349,  1.        ],\n",
              "       [ 5.89178357,  1.        ],\n",
              "       [ 5.91182365,  1.        ],\n",
              "       [ 5.93186373,  1.        ],\n",
              "       [ 5.95190381,  1.        ],\n",
              "       [ 5.97194389,  1.        ],\n",
              "       [ 5.99198397,  1.        ],\n",
              "       [ 6.01202405,  1.        ],\n",
              "       [ 6.03206413,  1.        ],\n",
              "       [ 6.05210421,  1.        ],\n",
              "       [ 6.07214429,  1.        ],\n",
              "       [ 6.09218437,  1.        ],\n",
              "       [ 6.11222445,  1.        ],\n",
              "       [ 6.13226453,  1.        ],\n",
              "       [ 6.15230461,  1.        ],\n",
              "       [ 6.17234469,  1.        ],\n",
              "       [ 6.19238477,  1.        ],\n",
              "       [ 6.21242485,  1.        ],\n",
              "       [ 6.23246493,  1.        ],\n",
              "       [ 6.25250501,  1.        ],\n",
              "       [ 6.27254509,  1.        ],\n",
              "       [ 6.29258517,  1.        ],\n",
              "       [ 6.31262525,  1.        ],\n",
              "       [ 6.33266533,  1.        ],\n",
              "       [ 6.35270541,  1.        ],\n",
              "       [ 6.37274549,  1.        ],\n",
              "       [ 6.39278557,  1.        ],\n",
              "       [ 6.41282565,  1.        ],\n",
              "       [ 6.43286573,  1.        ],\n",
              "       [ 6.45290581,  1.        ],\n",
              "       [ 6.47294589,  1.        ],\n",
              "       [ 6.49298597,  1.        ],\n",
              "       [ 6.51302605,  1.        ],\n",
              "       [ 6.53306613,  1.        ],\n",
              "       [ 6.55310621,  1.        ],\n",
              "       [ 6.57314629,  1.        ],\n",
              "       [ 6.59318637,  1.        ],\n",
              "       [ 6.61322645,  1.        ],\n",
              "       [ 6.63326653,  1.        ],\n",
              "       [ 6.65330661,  1.        ],\n",
              "       [ 6.67334669,  1.        ],\n",
              "       [ 6.69338677,  1.        ],\n",
              "       [ 6.71342685,  1.        ],\n",
              "       [ 6.73346693,  1.        ],\n",
              "       [ 6.75350701,  1.        ],\n",
              "       [ 6.77354709,  1.        ],\n",
              "       [ 6.79358717,  1.        ],\n",
              "       [ 6.81362725,  1.        ],\n",
              "       [ 6.83366733,  1.        ],\n",
              "       [ 6.85370741,  1.        ],\n",
              "       [ 6.87374749,  1.        ],\n",
              "       [ 6.89378758,  1.        ],\n",
              "       [ 6.91382766,  1.        ],\n",
              "       [ 6.93386774,  1.        ],\n",
              "       [ 6.95390782,  1.        ],\n",
              "       [ 6.9739479 ,  1.        ],\n",
              "       [ 6.99398798,  1.        ],\n",
              "       [ 7.01402806,  1.        ],\n",
              "       [ 7.03406814,  1.        ],\n",
              "       [ 7.05410822,  1.        ],\n",
              "       [ 7.0741483 ,  1.        ],\n",
              "       [ 7.09418838,  1.        ],\n",
              "       [ 7.11422846,  1.        ],\n",
              "       [ 7.13426854,  1.        ],\n",
              "       [ 7.15430862,  1.        ],\n",
              "       [ 7.1743487 ,  1.        ],\n",
              "       [ 7.19438878,  1.        ],\n",
              "       [ 7.21442886,  1.        ],\n",
              "       [ 7.23446894,  1.        ],\n",
              "       [ 7.25450902,  1.        ],\n",
              "       [ 7.2745491 ,  1.        ],\n",
              "       [ 7.29458918,  1.        ],\n",
              "       [ 7.31462926,  1.        ],\n",
              "       [ 7.33466934,  1.        ],\n",
              "       [ 7.35470942,  1.        ],\n",
              "       [ 7.3747495 ,  1.        ],\n",
              "       [ 7.39478958,  1.        ],\n",
              "       [ 7.41482966,  1.        ],\n",
              "       [ 7.43486974,  1.        ],\n",
              "       [ 7.45490982,  1.        ],\n",
              "       [ 7.4749499 ,  1.        ],\n",
              "       [ 7.49498998,  1.        ],\n",
              "       [ 7.51503006,  1.        ],\n",
              "       [ 7.53507014,  1.        ],\n",
              "       [ 7.55511022,  1.        ],\n",
              "       [ 7.5751503 ,  1.        ],\n",
              "       [ 7.59519038,  1.        ],\n",
              "       [ 7.61523046,  1.        ],\n",
              "       [ 7.63527054,  1.        ],\n",
              "       [ 7.65531062,  1.        ],\n",
              "       [ 7.6753507 ,  1.        ],\n",
              "       [ 7.69539078,  1.        ],\n",
              "       [ 7.71543086,  1.        ],\n",
              "       [ 7.73547094,  1.        ],\n",
              "       [ 7.75551102,  1.        ],\n",
              "       [ 7.7755511 ,  1.        ],\n",
              "       [ 7.79559118,  1.        ],\n",
              "       [ 7.81563126,  1.        ],\n",
              "       [ 7.83567134,  1.        ],\n",
              "       [ 7.85571142,  1.        ],\n",
              "       [ 7.8757515 ,  1.        ],\n",
              "       [ 7.89579158,  1.        ],\n",
              "       [ 7.91583166,  1.        ],\n",
              "       [ 7.93587174,  1.        ],\n",
              "       [ 7.95591182,  1.        ],\n",
              "       [ 7.9759519 ,  1.        ],\n",
              "       [ 7.99599198,  1.        ],\n",
              "       [ 8.01603206,  1.        ],\n",
              "       [ 8.03607214,  1.        ],\n",
              "       [ 8.05611222,  1.        ],\n",
              "       [ 8.0761523 ,  1.        ],\n",
              "       [ 8.09619238,  1.        ],\n",
              "       [ 8.11623246,  1.        ],\n",
              "       [ 8.13627255,  1.        ],\n",
              "       [ 8.15631263,  1.        ],\n",
              "       [ 8.17635271,  1.        ],\n",
              "       [ 8.19639279,  1.        ],\n",
              "       [ 8.21643287,  1.        ],\n",
              "       [ 8.23647295,  1.        ],\n",
              "       [ 8.25651303,  1.        ],\n",
              "       [ 8.27655311,  1.        ],\n",
              "       [ 8.29659319,  1.        ],\n",
              "       [ 8.31663327,  1.        ],\n",
              "       [ 8.33667335,  1.        ],\n",
              "       [ 8.35671343,  1.        ],\n",
              "       [ 8.37675351,  1.        ],\n",
              "       [ 8.39679359,  1.        ],\n",
              "       [ 8.41683367,  1.        ],\n",
              "       [ 8.43687375,  1.        ],\n",
              "       [ 8.45691383,  1.        ],\n",
              "       [ 8.47695391,  1.        ],\n",
              "       [ 8.49699399,  1.        ],\n",
              "       [ 8.51703407,  1.        ],\n",
              "       [ 8.53707415,  1.        ],\n",
              "       [ 8.55711423,  1.        ],\n",
              "       [ 8.57715431,  1.        ],\n",
              "       [ 8.59719439,  1.        ],\n",
              "       [ 8.61723447,  1.        ],\n",
              "       [ 8.63727455,  1.        ],\n",
              "       [ 8.65731463,  1.        ],\n",
              "       [ 8.67735471,  1.        ],\n",
              "       [ 8.69739479,  1.        ],\n",
              "       [ 8.71743487,  1.        ],\n",
              "       [ 8.73747495,  1.        ],\n",
              "       [ 8.75751503,  1.        ],\n",
              "       [ 8.77755511,  1.        ],\n",
              "       [ 8.79759519,  1.        ],\n",
              "       [ 8.81763527,  1.        ],\n",
              "       [ 8.83767535,  1.        ],\n",
              "       [ 8.85771543,  1.        ],\n",
              "       [ 8.87775551,  1.        ],\n",
              "       [ 8.89779559,  1.        ],\n",
              "       [ 8.91783567,  1.        ],\n",
              "       [ 8.93787575,  1.        ],\n",
              "       [ 8.95791583,  1.        ],\n",
              "       [ 8.97795591,  1.        ],\n",
              "       [ 8.99799599,  1.        ],\n",
              "       [ 9.01803607,  1.        ],\n",
              "       [ 9.03807615,  1.        ],\n",
              "       [ 9.05811623,  1.        ],\n",
              "       [ 9.07815631,  1.        ],\n",
              "       [ 9.09819639,  1.        ],\n",
              "       [ 9.11823647,  1.        ],\n",
              "       [ 9.13827655,  1.        ],\n",
              "       [ 9.15831663,  1.        ],\n",
              "       [ 9.17835671,  1.        ],\n",
              "       [ 9.19839679,  1.        ],\n",
              "       [ 9.21843687,  1.        ],\n",
              "       [ 9.23847695,  1.        ],\n",
              "       [ 9.25851703,  1.        ],\n",
              "       [ 9.27855711,  1.        ],\n",
              "       [ 9.29859719,  1.        ],\n",
              "       [ 9.31863727,  1.        ],\n",
              "       [ 9.33867735,  1.        ],\n",
              "       [ 9.35871743,  1.        ],\n",
              "       [ 9.37875752,  1.        ],\n",
              "       [ 9.3987976 ,  1.        ],\n",
              "       [ 9.41883768,  1.        ],\n",
              "       [ 9.43887776,  1.        ],\n",
              "       [ 9.45891784,  1.        ],\n",
              "       [ 9.47895792,  1.        ],\n",
              "       [ 9.498998  ,  1.        ],\n",
              "       [ 9.51903808,  1.        ],\n",
              "       [ 9.53907816,  1.        ],\n",
              "       [ 9.55911824,  1.        ],\n",
              "       [ 9.57915832,  1.        ],\n",
              "       [ 9.5991984 ,  1.        ],\n",
              "       [ 9.61923848,  1.        ],\n",
              "       [ 9.63927856,  1.        ],\n",
              "       [ 9.65931864,  1.        ],\n",
              "       [ 9.67935872,  1.        ],\n",
              "       [ 9.6993988 ,  1.        ],\n",
              "       [ 9.71943888,  1.        ],\n",
              "       [ 9.73947896,  1.        ],\n",
              "       [ 9.75951904,  1.        ],\n",
              "       [ 9.77955912,  1.        ],\n",
              "       [ 9.7995992 ,  1.        ],\n",
              "       [ 9.81963928,  1.        ],\n",
              "       [ 9.83967936,  1.        ],\n",
              "       [ 9.85971944,  1.        ],\n",
              "       [ 9.87975952,  1.        ],\n",
              "       [ 9.8997996 ,  1.        ],\n",
              "       [ 9.91983968,  1.        ],\n",
              "       [ 9.93987976,  1.        ],\n",
              "       [ 9.95991984,  1.        ],\n",
              "       [ 9.97995992,  1.        ],\n",
              "       [10.        ,  1.        ]])"
            ]
          },
          "metadata": {},
          "execution_count": 243
        }
      ],
      "source": [
        "np.array(list(zip(x, np.ones(n))))"
      ],
      "id": "65c149ba-d48e-4ce7-bbef-0d664dee43d3"
    },
    {
      "cell_type": "code",
      "execution_count": null,
      "metadata": {
        "id": "d32c2ed5-a046-45c9-a4c3-aa0be43d5251"
      },
      "outputs": [],
      "source": [
        "# Созданим матрицу A для MSE оптимизации\n",
        "# Мы предположили что наша фунция в данном случае y=kx+b\n",
        "A = np.array(list(zip(x, np.ones(n))))\n",
        "y = f(x)\n",
        "\n",
        "def MSE_of_linear_func(x):\n",
        "    return mean_squared_error(A.dot(x), y)"
      ],
      "id": "d32c2ed5-a046-45c9-a4c3-aa0be43d5251"
    },
    {
      "cell_type": "code",
      "execution_count": null,
      "metadata": {
        "colab": {
          "base_uri": "https://localhost:8080/"
        },
        "id": "b4348ed6-7d56-4c3c-a1d8-ac4cfa5aa984",
        "outputId": "dbeb9f35-1ddc-4a53-eca4-c6568fa2d8ea"
      },
      "outputs": [
        {
          "output_type": "stream",
          "name": "stdout",
          "text": [
            "MSE optimization gives k_1 = 0.501736961168903 and b_1 = 0.98798174502213\n"
          ]
        }
      ],
      "source": [
        "from scipy.optimize import minimize\n",
        "x0 = [0, 0]\n",
        "res1 = minimize(MSE_of_linear_func, x0, method='Nelder-Mead', tol=1e-6)\n",
        "print(\"MSE optimization gives k_1 = {} and b_1 = {}\".format(res1.x[0], res1.x[1]))"
      ],
      "id": "b4348ed6-7d56-4c3c-a1d8-ac4cfa5aa984"
    },
    {
      "cell_type": "markdown",
      "metadata": {
        "id": "70b48a8b-f662-44e2-9d1e-736e864ee539"
      },
      "source": [
        "\n",
        "\n",
        "```\n",
        "# This is formatted as code\n",
        "```\n",
        "\n",
        "Как работает метод оптимизации `Nelder-Mean` - процесс оптимизации похож на то, как амеба скатывается в самую глубокую часть ямы"
      ],
      "id": "70b48a8b-f662-44e2-9d1e-736e864ee539"
    },
    {
      "cell_type": "markdown",
      "metadata": {
        "id": "d53f38f7-df3f-4204-8613-ee5d58c6ccdb"
      },
      "source": [
        "![](https://www.jakubkonka.com/images/nelder-mead/one-minimum.gif)"
      ],
      "id": "d53f38f7-df3f-4204-8613-ee5d58c6ccdb"
    },
    {
      "cell_type": "markdown",
      "metadata": {
        "id": "331fc844-319f-493c-af5e-df2f61dabc5f"
      },
      "source": [
        "Часто функции оптимизируют с помощью метода градиентного спуска"
      ],
      "id": "331fc844-319f-493c-af5e-df2f61dabc5f"
    },
    {
      "cell_type": "markdown",
      "metadata": {
        "id": "37c3bfe3-56e2-483b-b2ba-27d3df950118"
      },
      "source": [
        "![](https://blog.paperspace.com/content/images/2018/05/68747470733a2f2f707669676965722e6769746875622e696f2f6d656469612f696d672f70617274312f6772616469656e745f64657363656e742e676966.gif)"
      ],
      "id": "37c3bfe3-56e2-483b-b2ba-27d3df950118"
    },
    {
      "cell_type": "code",
      "execution_count": null,
      "metadata": {
        "colab": {
          "base_uri": "https://localhost:8080/"
        },
        "id": "2de37240-25a3-4f98-96d4-fe26049b3f0c",
        "outputId": "a5cb0803-fc00-49fb-e4ad-524085fddf03"
      },
      "outputs": [
        {
          "output_type": "execute_result",
          "data": {
            "text/plain": [
              "0.04008016032064128"
            ]
          },
          "metadata": {},
          "execution_count": 246
        }
      ],
      "source": [
        "x[2]"
      ],
      "id": "2de37240-25a3-4f98-96d4-fe26049b3f0c"
    },
    {
      "cell_type": "code",
      "execution_count": null,
      "metadata": {
        "colab": {
          "base_uri": "https://localhost:8080/",
          "height": 536
        },
        "id": "fdd083da-cc68-41a4-aa09-c68a8d3a0681",
        "outputId": "5cb4e146-9f6e-4e8a-a02f-0c099e8a13b4"
      },
      "outputs": [
        {
          "output_type": "execute_result",
          "data": {
            "text/plain": [
              "<matplotlib.legend.Legend at 0x7f56cddf3190>"
            ]
          },
          "metadata": {},
          "execution_count": 247
        },
        {
          "output_type": "display_data",
          "data": {
            "text/plain": [
              "<Figure size 720x576 with 1 Axes>"
            ],
            "image/png": "[encoded data removed]"
          },
          "metadata": {
            "needs_background": "light"
          }
        }
      ],
      "source": [
        "plt.figure(figsize=(10,8))\n",
        "plt.scatter(x, y)\n",
        "plt.plot(x, res1.x[0]*x+res1.x[1], c = 'r', linewidth=5, label=r\"$ y = k_{1}x+b_{1}$\")\n",
        "\n",
        "plt.xlabel(r\"Number of neighbors, $k$\", fontsize=20)\n",
        "plt.ylabel(r\"Accuracy\", fontsize=20)\n",
        "plt.yscale('linear')\n",
        "plt.xticks(fontsize = 20)\n",
        "plt.yticks(fontsize = 20)\n",
        "plt.legend(loc=\"best\", fontsize=20)"
      ],
      "id": "fdd083da-cc68-41a4-aa09-c68a8d3a0681"
    },
    {
      "cell_type": "markdown",
      "metadata": {
        "id": "2dbd5ea1-9c17-41fd-8900-c5364c2d306a"
      },
      "source": [
        "Добавим в выборку 75 точек, для которых $y = -1+\\epsilon$, а $x$ принимает различные значения из того же диапазона, что и у уже имевшихся точек в обучающей выборке. По новой расширенной выборке снова попробуйте восстановить зависимость $y(x)=kx+b$ двумя способами: минимизируя MSE и минимизируя MAE.\n",
        "\n",
        "Визуализируйте полученные прямые."
      ],
      "id": "2dbd5ea1-9c17-41fd-8900-c5364c2d306a"
    },
    {
      "cell_type": "code",
      "execution_count": null,
      "metadata": {
        "colab": {
          "base_uri": "https://localhost:8080/"
        },
        "id": "3c5376d5-0692-4c43-adb5-794faa0c2a5a",
        "outputId": "bdbef681-e915-48b2-9f76-58a27d31eac2"
      },
      "outputs": [
        {
          "output_type": "stream",
          "name": "stdout",
          "text": [
            "(575,)\n"
          ]
        }
      ],
      "source": [
        "x_new = np.concatenate((x,np.linspace(0,10,75)), axis = 0)\n",
        "print(x_new.shape)"
      ],
      "id": "3c5376d5-0692-4c43-adb5-794faa0c2a5a"
    },
    {
      "cell_type": "code",
      "execution_count": null,
      "metadata": {
        "id": "395eb59b-c370-4ffc-b782-bfd465461c09"
      },
      "outputs": [],
      "source": [
        "y1 = -1 + np.random.normal(mu, sigma, 75)\n",
        "y_new = np.concatenate((y,y1), axis = 0)"
      ],
      "id": "395eb59b-c370-4ffc-b782-bfd465461c09"
    },
    {
      "cell_type": "code",
      "execution_count": null,
      "metadata": {
        "id": "a13acacd-5e77-4c74-ab93-88cb72ff841e"
      },
      "outputs": [],
      "source": [
        "from sklearn.metrics import mean_absolute_error\n",
        "A_new = np.array(list(zip(x_new, np.ones(575))))\n",
        "\n",
        "def MSE_of_linear_func(x):\n",
        "    return mean_squared_error(A_new.dot(x), y_new)\n",
        "\n",
        "def MAE_of_linear_func(x):\n",
        "    return mean_absolute_error(A_new.dot(x), y_new)"
      ],
      "id": "a13acacd-5e77-4c74-ab93-88cb72ff841e"
    },
    {
      "cell_type": "code",
      "source": [],
      "metadata": {
        "id": "fTsVD9yrb33-"
      },
      "id": "fTsVD9yrb33-",
      "execution_count": null,
      "outputs": []
    },
    {
      "cell_type": "code",
      "execution_count": null,
      "metadata": {
        "colab": {
          "base_uri": "https://localhost:8080/"
        },
        "id": "43e521ae-f76e-4407-90f1-1254fc6c3faf",
        "outputId": "b28ef445-2250-4f22-a461-723f30db5885"
      },
      "outputs": [
        {
          "output_type": "stream",
          "name": "stdout",
          "text": [
            "MSE optimization gives k_2 = 0.4345792151982246 and b_2 = 0.7316140005490337\n"
          ]
        }
      ],
      "source": [
        "from scipy.optimize import minimize\n",
        "x0 = [0, 0]\n",
        "res2 = minimize(MSE_of_linear_func, x0, method='Nelder-Mead', tol=1e-6)\n",
        "print(\"MSE optimization gives k_2 = {} and b_2 = {}\".format(res2.x[0], res2.x[1]))"
      ],
      "id": "43e521ae-f76e-4407-90f1-1254fc6c3faf"
    },
    {
      "cell_type": "code",
      "execution_count": null,
      "metadata": {
        "colab": {
          "base_uri": "https://localhost:8080/"
        },
        "id": "1eab3706-2309-4211-9343-a7a8b3233060",
        "outputId": "8c693b3b-28ed-4642-a016-99d8b8e91edc"
      },
      "outputs": [
        {
          "output_type": "stream",
          "name": "stdout",
          "text": [
            "MAE optimization gives k_3 = 0.5006643975387037 and b_3 = 0.9486342139151501\n"
          ]
        }
      ],
      "source": [
        "from scipy.optimize import minimize\n",
        "x0 = [0, 0]\n",
        "res3 = minimize(MAE_of_linear_func, x0, method='Nelder-Mead', tol=1e-6)\n",
        "print(\"MAE optimization gives k_3 = {} and b_3 = {}\".format(res3.x[0], res3.x[1]))"
      ],
      "id": "1eab3706-2309-4211-9343-a7a8b3233060"
    },
    {
      "cell_type": "code",
      "execution_count": null,
      "metadata": {
        "colab": {
          "base_uri": "https://localhost:8080/",
          "height": 532
        },
        "id": "3463e22e-16dc-45d8-88a3-b698c435a3c1",
        "outputId": "ac103a6d-17d3-4536-9509-839adb601674"
      },
      "outputs": [
        {
          "output_type": "execute_result",
          "data": {
            "text/plain": [
              "<matplotlib.legend.Legend at 0x7f56cd594bd0>"
            ]
          },
          "metadata": {},
          "execution_count": 253
        },
        {
          "output_type": "display_data",
          "data": {
            "text/plain": [
              "<Figure size 720x576 with 1 Axes>"
            ],
            "image/png": "[encoded data removed]"
          },
          "metadata": {
            "needs_background": "light"
          }
        }
      ],
      "source": [
        "plt.figure(figsize=(10,8))\n",
        "plt.scatter(x_new, y_new)\n",
        "plt.semilogy(x_new, res2.x[0]*x_new+res2.x[1], c = 'r', linewidth=5, label=r\"MSE (with noise)\")\n",
        "plt.semilogy(x_new, res3.x[0]*x_new+res3.x[1], c = 'orange', linewidth=5, label=r\"MAE (with noise)\")\n",
        "plt.xlabel(r\"x\", fontsize=20)\n",
        "plt.ylabel(r\"y\", fontsize=20)\n",
        "plt.grid()\n",
        "plt.yscale('linear')\n",
        "plt.xticks(fontsize = 20)\n",
        "plt.yticks(fontsize = 20)\n",
        "plt.legend(loc=\"best\", fontsize=20)"
      ],
      "id": "3463e22e-16dc-45d8-88a3-b698c435a3c1"
    },
    {
      "cell_type": "markdown",
      "metadata": {
        "id": "839b6544-f2bc-4135-bf32-c461aaf53089"
      },
      "source": [
        "Почему оптимизация MAE более устойчива к выбросам в данных, чем оптимизация MSE?"
      ],
      "id": "839b6544-f2bc-4135-bf32-c461aaf53089"
    }
  ],
  "metadata": {
    "colab": {
      "provenance": []
    },
    "kernelspec": {
      "display_name": "Python 3 (ipykernel)",
      "language": "python",
      "name": "python3"
    },
    "language_info": {
      "codemirror_mode": {
        "name": "ipython",
        "version": 3
      },
      "file_extension": ".py",
      "mimetype": "text/x-python",
      "name": "python",
      "nbconvert_exporter": "python",
      "pygments_lexer": "ipython3",
      "version": "3.9.7"
    }
  },
  "nbformat": 4,
  "nbformat_minor": 5
}