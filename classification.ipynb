{
  "cells": [
    {
      "cell_type": "markdown",
      "metadata": {
        "id": "f_497in6l5F4"
      },
      "source": [
        "# Линейные модели"
      ]
    },
    {
      "cell_type": "markdown",
      "metadata": {
        "id": "qvQT-ujfl5F7"
      },
      "source": [
        "## sklearn.linear_model"
      ]
    },
    {
      "cell_type": "markdown",
      "metadata": {
        "id": "SM4xybtil5F9"
      },
      "source": [
        "**linear_model:**\n",
        "* RidgeClassifier\n",
        "* SGDClassifier\n",
        "* SGDRegressor\n",
        "* LinearRegression\n",
        "* LogisticRegression\n",
        "* Lasso\n",
        "* etc"
      ]
    },
    {
      "cell_type": "markdown",
      "metadata": {
        "id": "GnemQc1Al5F_"
      },
      "source": [
        "документация: http://scikit-learn.org/stable/modules/classes.html#module-sklearn.linear_model\n",
        "\n",
        "примеры: http://scikit-learn.org/stable/modules/linear_model.html#linear-model"
      ]
    },
    {
      "cell_type": "markdown",
      "metadata": {
        "id": "kQCdxgv8l5GB"
      },
      "source": [
        "## Общий алгоритм решения задачи машинного обучения:\n",
        "\n",
        "0. Формулируем задачу и определяем целевые метрики\n",
        "1. Готовим размеченные данные\n",
        "2. Разбиваем данные на обучающую и тестовую выборки\n",
        "3. Выбираем подходящий алгоритм и обучаем модель\n",
        "4. Оцениваем качество модели\n",
        "\n"
      ]
    },
    {
      "cell_type": "code",
      "execution_count": null,
      "metadata": {
        "ExecuteTime": {
          "end_time": "2019-10-12T00:03:58.041913Z",
          "start_time": "2019-10-12T00:03:58.037935Z"
        },
        "id": "j5htJ2f-l5GC"
      },
      "outputs": [],
      "source": [
        "from sklearn import model_selection, datasets, linear_model, metrics\n",
        "\n",
        "import numpy as np\n",
        "import seaborn as sns\n",
        "import pandas as pd\n",
        "from matplotlib import pyplot as plt\n",
        "sns.set();"
      ]
    },
    {
      "cell_type": "code",
      "execution_count": null,
      "metadata": {
        "id": "TwIf8jJKl5GD"
      },
      "outputs": [],
      "source": [
        "import warnings\n",
        "warnings.simplefilter(\"ignore\")"
      ]
    },
    {
      "cell_type": "code",
      "execution_count": null,
      "metadata": {
        "ExecuteTime": {
          "end_time": "2019-10-11T23:55:54.611349Z",
          "start_time": "2019-10-11T23:55:54.426999Z"
        },
        "id": "oRdVXE9Rl5GE",
        "outputId": "47375c2e-3a45-4c08-a89d-5ff169b083cf",
        "colab": {
          "base_uri": "https://localhost:8080/"
        }
      },
      "outputs": [
        {
          "output_type": "stream",
          "name": "stdout",
          "text": [
            "Populating the interactive namespace from numpy and matplotlib\n"
          ]
        }
      ],
      "source": [
        "%pylab inline"
      ]
    },
    {
      "cell_type": "code",
      "execution_count": null,
      "metadata": {
        "ExecuteTime": {
          "end_time": "2019-10-11T23:55:54.619395Z",
          "start_time": "2019-10-11T23:55:54.612886Z"
        },
        "id": "lx7wNZIal5GF"
      },
      "outputs": [],
      "source": [
        "# вспомогательная функция для отрисовки картинок\n",
        "# понимать, что в ней написано, совсем необязательно\n",
        "\n",
        "def make_meshgrid(x, y, h=.02):\n",
        "    \"\"\"Create a mesh of points to plot in\n",
        "\n",
        "    Parameters\n",
        "    ----------\n",
        "    x: data to base x-axis meshgrid on\n",
        "    y: data to base y-axis meshgrid on\n",
        "    h: stepsize for meshgrid, optional\n",
        "\n",
        "    Returns\n",
        "    -------\n",
        "    xx, yy : ndarray\n",
        "    \"\"\"\n",
        "    x_min, x_max = x.min() - 1, x.max() + 1\n",
        "    y_min, y_max = y.min() - 1, y.max() + 1\n",
        "    xx, yy = np.meshgrid(np.arange(x_min, x_max, h),\n",
        "                         np.arange(y_min, y_max, h))\n",
        "    return xx, yy\n",
        "\n",
        "\n",
        "def plot_contours(ax, clf, xx, yy, **params):\n",
        "    \"\"\"Plot the decision boundaries for a classifier.\n",
        "\n",
        "    Parameters\n",
        "    ----------\n",
        "    ax: matplotlib axes object\n",
        "    clf: a classifier\n",
        "    xx: meshgrid ndarray\n",
        "    yy: meshgrid ndarray\n",
        "    params: dictionary of params to pass to contourf, optional\n",
        "    \"\"\"\n",
        "    Z = clf.predict(np.c_[xx.ravel(), yy.ravel()])\n",
        "    Z = Z.reshape(xx.shape)\n",
        "    out = ax.contourf(xx, yy, Z, **params)\n",
        "    return out"
      ]
    },
    {
      "cell_type": "markdown",
      "metadata": {
        "id": "kU3W8ZGil5GH"
      },
      "source": [
        "## Будем решать задачу бинарной классификации на синтетически сгенерированных данных"
      ]
    },
    {
      "cell_type": "markdown",
      "metadata": {
        "id": "a0r7mtC0l5GI"
      },
      "source": [
        "### 1. Подготовка данных"
      ]
    },
    {
      "cell_type": "code",
      "execution_count": null,
      "metadata": {
        "ExecuteTime": {
          "end_time": "2019-10-11T23:59:20.935907Z",
          "start_time": "2019-10-11T23:59:20.932170Z"
        },
        "id": "rohBS7del5GJ"
      },
      "outputs": [],
      "source": [
        "# генерируем 2 облака с заданным разбросом\n",
        "blobs = datasets.make_blobs(centers=2, cluster_std=3)"
      ]
    },
    {
      "cell_type": "code",
      "execution_count": null,
      "metadata": {
        "ExecuteTime": {
          "end_time": "2019-10-12T00:00:16.361316Z",
          "start_time": "2019-10-12T00:00:16.357327Z"
        },
        "id": "mL2M_N9hl5GK",
        "outputId": "be28a338-89e8-45cc-cd57-df3b4e889548",
        "colab": {
          "base_uri": "https://localhost:8080/"
        }
      },
      "outputs": [
        {
          "output_type": "execute_result",
          "data": {
            "text/plain": [
              "((100, 2), (100,))"
            ]
          },
          "metadata": {},
          "execution_count": 183
        }
      ],
      "source": [
        "blobs[0].shape, blobs[1].shape"
      ]
    },
    {
      "cell_type": "code",
      "execution_count": null,
      "metadata": {
        "ExecuteTime": {
          "end_time": "2019-10-12T00:02:28.822436Z",
          "start_time": "2019-10-12T00:02:28.815442Z"
        },
        "id": "EmlANMIwl5GK"
      },
      "outputs": [],
      "source": [
        "df = pd.DataFrame(blobs[0], columns=['feature_1', 'feature_2'])\n",
        "df['target'] = blobs[1]"
      ]
    },
    {
      "cell_type": "code",
      "execution_count": null,
      "metadata": {
        "ExecuteTime": {
          "end_time": "2019-10-12T00:02:32.414625Z",
          "start_time": "2019-10-12T00:02:32.406133Z"
        },
        "id": "5QdeGpp-l5GM",
        "outputId": "6478e831-7ea4-4721-e743-59f9f923fc1c",
        "colab": {
          "base_uri": "https://localhost:8080/",
          "height": 206
        }
      },
      "outputs": [
        {
          "output_type": "execute_result",
          "data": {
            "text/plain": [
              "   feature_1  feature_2  target\n",
              "0   5.444770   3.551582       1\n",
              "1  11.271463  -1.421440       1\n",
              "2   9.134435  -1.900305       1\n",
              "3   3.448816  -8.165052       0\n",
              "4   9.742270  -7.883689       0"
            ],
            "text/html": [
              "\n",
              "  <div id=\"df-a78bad48-8414-49c8-9221-e3497a481a06\">\n",
              "    <div class=\"colab-df-container\">\n",
              "      <div>\n",
              "<style scoped>\n",
              "    .dataframe tbody tr th:only-of-type {\n",
              "        vertical-align: middle;\n",
              "    }\n",
              "\n",
              "    .dataframe tbody tr th {\n",
              "        vertical-align: top;\n",
              "    }\n",
              "\n",
              "    .dataframe thead th {\n",
              "        text-align: right;\n",
              "    }\n",
              "</style>\n",
              "<table border=\"1\" class=\"dataframe\">\n",
              "  <thead>\n",
              "    <tr style=\"text-align: right;\">\n",
              "      <th></th>\n",
              "      <th>feature_1</th>\n",
              "      <th>feature_2</th>\n",
              "      <th>target</th>\n",
              "    </tr>\n",
              "  </thead>\n",
              "  <tbody>\n",
              "    <tr>\n",
              "      <th>0</th>\n",
              "      <td>5.444770</td>\n",
              "      <td>3.551582</td>\n",
              "      <td>1</td>\n",
              "    </tr>\n",
              "    <tr>\n",
              "      <th>1</th>\n",
              "      <td>11.271463</td>\n",
              "      <td>-1.421440</td>\n",
              "      <td>1</td>\n",
              "    </tr>\n",
              "    <tr>\n",
              "      <th>2</th>\n",
              "      <td>9.134435</td>\n",
              "      <td>-1.900305</td>\n",
              "      <td>1</td>\n",
              "    </tr>\n",
              "    <tr>\n",
              "      <th>3</th>\n",
              "      <td>3.448816</td>\n",
              "      <td>-8.165052</td>\n",
              "      <td>0</td>\n",
              "    </tr>\n",
              "    <tr>\n",
              "      <th>4</th>\n",
              "      <td>9.742270</td>\n",
              "      <td>-7.883689</td>\n",
              "      <td>0</td>\n",
              "    </tr>\n",
              "  </tbody>\n",
              "</table>\n",
              "</div>\n",
              "      <button class=\"colab-df-convert\" onclick=\"convertToInteractive('df-a78bad48-8414-49c8-9221-e3497a481a06')\"\n",
              "              title=\"Convert this dataframe to an interactive table.\"\n",
              "              style=\"display:none;\">\n",
              "        \n",
              "  <svg xmlns=\"http://www.w3.org/2000/svg\" height=\"24px\"viewBox=\"0 0 24 24\"\n",
              "       width=\"24px\">\n",
              "    <path d=\"M0 0h24v24H0V0z\" fill=\"none\"/>\n",
              "    <path d=\"M18.56 5.44l.94 2.06.94-2.06 2.06-.94-2.06-.94-.94-2.06-.94 2.06-2.06.94zm-11 1L8.5 8.5l.94-2.06 2.06-.94-2.06-.94L8.5 2.5l-.94 2.06-2.06.94zm10 10l.94 2.06.94-2.06 2.06-.94-2.06-.94-.94-2.06-.94 2.06-2.06.94z\"/><path d=\"M17.41 7.96l-1.37-1.37c-.4-.4-.92-.59-1.43-.59-.52 0-1.04.2-1.43.59L10.3 9.45l-7.72 7.72c-.78.78-.78 2.05 0 2.83L4 21.41c.39.39.9.59 1.41.59.51 0 1.02-.2 1.41-.59l7.78-7.78 2.81-2.81c.8-.78.8-2.07 0-2.86zM5.41 20L4 18.59l7.72-7.72 1.47 1.35L5.41 20z\"/>\n",
              "  </svg>\n",
              "      </button>\n",
              "      \n",
              "  <style>\n",
              "    .colab-df-container {\n",
              "      display:flex;\n",
              "      flex-wrap:wrap;\n",
              "      gap: 12px;\n",
              "    }\n",
              "\n",
              "    .colab-df-convert {\n",
              "      background-color: #E8F0FE;\n",
              "      border: none;\n",
              "      border-radius: 50%;\n",
              "      cursor: pointer;\n",
              "      display: none;\n",
              "      fill: #1967D2;\n",
              "      height: 32px;\n",
              "      padding: 0 0 0 0;\n",
              "      width: 32px;\n",
              "    }\n",
              "\n",
              "    .colab-df-convert:hover {\n",
              "      background-color: #E2EBFA;\n",
              "      box-shadow: 0px 1px 2px rgba(60, 64, 67, 0.3), 0px 1px 3px 1px rgba(60, 64, 67, 0.15);\n",
              "      fill: #174EA6;\n",
              "    }\n",
              "\n",
              "    [theme=dark] .colab-df-convert {\n",
              "      background-color: #3B4455;\n",
              "      fill: #D2E3FC;\n",
              "    }\n",
              "\n",
              "    [theme=dark] .colab-df-convert:hover {\n",
              "      background-color: #434B5C;\n",
              "      box-shadow: 0px 1px 3px 1px rgba(0, 0, 0, 0.15);\n",
              "      filter: drop-shadow(0px 1px 2px rgba(0, 0, 0, 0.3));\n",
              "      fill: #FFFFFF;\n",
              "    }\n",
              "  </style>\n",
              "\n",
              "      <script>\n",
              "        const buttonEl =\n",
              "          document.querySelector('#df-a78bad48-8414-49c8-9221-e3497a481a06 button.colab-df-convert');\n",
              "        buttonEl.style.display =\n",
              "          google.colab.kernel.accessAllowed ? 'block' : 'none';\n",
              "\n",
              "        async function convertToInteractive(key) {\n",
              "          const element = document.querySelector('#df-a78bad48-8414-49c8-9221-e3497a481a06');\n",
              "          const dataTable =\n",
              "            await google.colab.kernel.invokeFunction('convertToInteractive',\n",
              "                                                     [key], {});\n",
              "          if (!dataTable) return;\n",
              "\n",
              "          const docLinkHtml = 'Like what you see? Visit the ' +\n",
              "            '<a target=\"_blank\" href=https://colab.research.google.com/notebooks/data_table.ipynb>data table notebook</a>'\n",
              "            + ' to learn more about interactive tables.';\n",
              "          element.innerHTML = '';\n",
              "          dataTable['output_type'] = 'display_data';\n",
              "          await google.colab.output.renderOutput(dataTable, element);\n",
              "          const docLink = document.createElement('div');\n",
              "          docLink.innerHTML = docLinkHtml;\n",
              "          element.appendChild(docLink);\n",
              "        }\n",
              "      </script>\n",
              "    </div>\n",
              "  </div>\n",
              "  "
            ]
          },
          "metadata": {},
          "execution_count": 185
        }
      ],
      "source": [
        "df.head()"
      ]
    },
    {
      "cell_type": "code",
      "execution_count": null,
      "metadata": {
        "ExecuteTime": {
          "end_time": "2019-10-12T00:14:20.845714Z",
          "start_time": "2019-10-12T00:14:20.498737Z"
        },
        "id": "pJT-YbAll5GM",
        "outputId": "3daa9f9b-00c1-47e4-c04d-5c774860635f",
        "colab": {
          "base_uri": "https://localhost:8080/",
          "height": 286
        }
      },
      "outputs": [
        {
          "output_type": "execute_result",
          "data": {
            "text/plain": [
              "<matplotlib.collections.PathCollection at 0x7f760e397ad0>"
            ]
          },
          "metadata": {},
          "execution_count": 186
        },
        {
          "output_type": "display_data",
          "data": {
            "text/plain": [
              "<Figure size 432x288 with 1 Axes>"
            ],
            "image/png": "[encoded data removed]"
          },
          "metadata": {
            "needs_background": "light"
          }
        }
      ],
      "source": [
        "plt.scatter(x=df['feature_1'], y=df['feature_2'], c=df['target'], cmap='rainbow')"
      ]
    },
    {
      "cell_type": "markdown",
      "metadata": {
        "id": "iddWPHTsl5GO"
      },
      "source": [
        "### 2. Разбиение данных на обучающую и тестовую выборки"
      ]
    },
    {
      "cell_type": "markdown",
      "metadata": {
        "id": "gP_1GOy7l5GO"
      },
      "source": [
        "Разбейте данные на ```train``` и ```test``` с помощью функции ```model_selection.train_test_split()```.\n",
        "В обучающую выборку поместите 70% данных"
      ]
    },
    {
      "cell_type": "code",
      "execution_count": null,
      "metadata": {
        "ExecuteTime": {
          "end_time": "2019-10-12T00:04:51.481055Z",
          "start_time": "2019-10-12T00:04:51.477265Z"
        },
        "id": "8POfHkGzl5GO"
      },
      "outputs": [],
      "source": [
        "from sklearn.model_selection import train_test_split\n",
        "a = df.values\n",
        "X=a[:, :2]\n",
        "y=a[:, 2]\n",
        "X_train, X_test, y_train, y_test = train_test_split(X, y, test_size=0.3)\n"
      ]
    },
    {
      "cell_type": "markdown",
      "metadata": {
        "id": "OKCibzC1l5GS"
      },
      "source": [
        "### Линейная классификация"
      ]
    },
    {
      "cell_type": "markdown",
      "metadata": {
        "id": "uWcfDkQGl5GS"
      },
      "source": [
        "Курсив#### LogisticRegression"
      ]
    },
    {
      "cell_type": "code",
      "execution_count": null,
      "metadata": {
        "ExecuteTime": {
          "end_time": "2019-10-12T00:17:33.775398Z",
          "start_time": "2019-10-12T00:17:33.772836Z"
        },
        "id": "CDYPryt8l5GT"
      },
      "outputs": [],
      "source": [
        "from sklearn.linear_model import LogisticRegression\n",
        "log_regressor = LogisticRegression(random_state=0)"
      ]
    },
    {
      "cell_type": "markdown",
      "metadata": {
        "id": "enWXcUPrl5GT"
      },
      "source": [
        "### 3. Обучение модели"
      ]
    },
    {
      "cell_type": "markdown",
      "metadata": {
        "id": "-08_KQyil5GU"
      },
      "source": [
        "Вызовите у классификатора метод ```.fit()```, передав в метод обучающие данные"
      ]
    },
    {
      "cell_type": "code",
      "execution_count": null,
      "metadata": {
        "ExecuteTime": {
          "end_time": "2019-10-12T00:17:34.041687Z",
          "start_time": "2019-10-12T00:17:34.036346Z"
        },
        "id": "fOOSSfUHl5GU",
        "colab": {
          "base_uri": "https://localhost:8080/"
        },
        "outputId": "9fd95aa1-6225-484a-e578-ecfebafb45dc"
      },
      "outputs": [
        {
          "output_type": "execute_result",
          "data": {
            "text/plain": [
              "LogisticRegression(random_state=0)"
            ]
          },
          "metadata": {},
          "execution_count": 189
        }
      ],
      "source": [
        "log_regressor.fit(X_train, y_train)"
      ]
    },
    {
      "cell_type": "markdown",
      "metadata": {
        "id": "boCaVkZ8l5GV"
      },
      "source": [
        "Применение обученного классификатора\n",
        "\n",
        "Вызовите у классификатора метод ```.predict()```, передав в метод тестовые данные"
      ]
    },
    {
      "cell_type": "code",
      "execution_count": null,
      "metadata": {
        "ExecuteTime": {
          "end_time": "2019-10-12T00:17:34.231272Z",
          "start_time": "2019-10-12T00:17:34.228515Z"
        },
        "id": "NpZPBymAl5GV"
      },
      "outputs": [],
      "source": [
        "# -- НАПИШИТЕ ВАШ КОД ЗДЕСЬ --\n",
        "logreg_predictions = log_regressor.predict(X_test)"
      ]
    },
    {
      "cell_type": "code",
      "execution_count": null,
      "metadata": {
        "ExecuteTime": {
          "end_time": "2019-10-12T00:17:36.427398Z",
          "start_time": "2019-10-12T00:17:36.424229Z"
        },
        "id": "jSG8PC36l5GW",
        "colab": {
          "base_uri": "https://localhost:8080/"
        },
        "outputId": "006d688a-f363-4caa-da63-13f09d0c8eb6"
      },
      "outputs": [
        {
          "output_type": "execute_result",
          "data": {
            "text/plain": [
              "array([0., 0., 1., 1., 1., 1., 0., 1., 0., 1., 0., 1., 0., 0., 1., 0., 1.,\n",
              "       1., 1., 0., 0., 0., 0., 1., 0., 1., 0., 0., 0., 0.])"
            ]
          },
          "metadata": {},
          "execution_count": 191
        }
      ],
      "source": [
        "logreg_predictions"
      ]
    },
    {
      "cell_type": "code",
      "execution_count": null,
      "metadata": {
        "ExecuteTime": {
          "end_time": "2019-10-12T00:17:35.812586Z",
          "start_time": "2019-10-12T00:17:35.809411Z"
        },
        "id": "TjCVlhF4l5GX",
        "colab": {
          "base_uri": "https://localhost:8080/"
        },
        "outputId": "55684255-f522-4669-cc76-d581c57dab0b"
      },
      "outputs": [
        {
          "output_type": "execute_result",
          "data": {
            "text/plain": [
              "array([1., 0., 1., 1., 1., 1., 0., 1., 0., 1., 0., 0., 1., 0., 0., 1., 1.,\n",
              "       1., 1., 0., 0., 0., 0., 0., 0., 1., 0., 0., 0., 1.])"
            ]
          },
          "metadata": {},
          "execution_count": 192
        }
      ],
      "source": [
        "y_test"
      ]
    },
    {
      "cell_type": "markdown",
      "source": [],
      "metadata": {
        "id": "vFAmaRrgk9Z4"
      }
    },
    {
      "cell_type": "code",
      "execution_count": null,
      "metadata": {
        "id": "-0kWB9Byl5GY",
        "colab": {
          "base_uri": "https://localhost:8080/"
        },
        "outputId": "e1d4ae8c-cc6e-42bf-9e58-b1e9920f79f9"
      },
      "outputs": [
        {
          "output_type": "execute_result",
          "data": {
            "text/plain": [
              "0.7666666666666667"
            ]
          },
          "metadata": {},
          "execution_count": 193
        }
      ],
      "source": [
        "log_regressor.score(X_test, y_test)"
      ]
    },
    {
      "cell_type": "code",
      "source": [
        "np.mean(logreg_predictions == y_test)"
      ],
      "metadata": {
        "colab": {
          "base_uri": "https://localhost:8080/"
        },
        "id": "ypQYXQqkm4Mz",
        "outputId": "727ddcfd-51c0-470b-bd4c-da983764fe72"
      },
      "execution_count": null,
      "outputs": [
        {
          "output_type": "execute_result",
          "data": {
            "text/plain": [
              "0.7666666666666667"
            ]
          },
          "metadata": {},
          "execution_count": 194
        }
      ]
    },
    {
      "cell_type": "markdown",
      "metadata": {
        "id": "AE2MOs_7l5GY"
      },
      "source": [
        "Логистическая регрессия умеет оценивать вероятность принадлежности объекта к классам классификации.\n",
        "Вызовите у классификатора метод ```.predict_proba()```, передав в метод тестовые данные"
      ]
    },
    {
      "cell_type": "code",
      "execution_count": null,
      "metadata": {
        "ExecuteTime": {
          "end_time": "2019-10-12T00:17:35.355632Z",
          "start_time": "2019-10-12T00:17:35.353038Z"
        },
        "id": "p4miOsE7l5GZ",
        "colab": {
          "base_uri": "https://localhost:8080/"
        },
        "outputId": "5822ce7f-50f9-4c55-ae11-ca5a278a011d"
      },
      "outputs": [
        {
          "output_type": "execute_result",
          "data": {
            "text/plain": [
              "array([[0.54463767, 0.45536233],\n",
              "       [0.97941266, 0.02058734],\n",
              "       [0.20758798, 0.79241202],\n",
              "       [0.05216274, 0.94783726],\n",
              "       [0.07829089, 0.92170911],\n",
              "       [0.35737897, 0.64262103],\n",
              "       [0.88871714, 0.11128286],\n",
              "       [0.00584212, 0.99415788],\n",
              "       [0.50244419, 0.49755581],\n",
              "       [0.02451781, 0.97548219],\n",
              "       [0.91521841, 0.08478159],\n",
              "       [0.29437094, 0.70562906],\n",
              "       [0.71482734, 0.28517266],\n",
              "       [0.97913438, 0.02086562],\n",
              "       [0.11672267, 0.88327733],\n",
              "       [0.81843142, 0.18156858],\n",
              "       [0.09524552, 0.90475448],\n",
              "       [0.1442781 , 0.8557219 ],\n",
              "       [0.12723197, 0.87276803],\n",
              "       [0.77846328, 0.22153672],\n",
              "       [0.72593803, 0.27406197],\n",
              "       [0.92218864, 0.07781136],\n",
              "       [0.50772593, 0.49227407],\n",
              "       [0.45309754, 0.54690246],\n",
              "       [0.92993442, 0.07006558],\n",
              "       [0.1826182 , 0.8173818 ],\n",
              "       [0.97298129, 0.02701871],\n",
              "       [0.78049957, 0.21950043],\n",
              "       [0.72591475, 0.27408525],\n",
              "       [0.54114391, 0.45885609]])"
            ]
          },
          "metadata": {},
          "execution_count": 195
        }
      ],
      "source": [
        "# proba = probabilities = вероятности\n",
        "\n",
        "# -- НАПИШИТЕ ВАШ КОД ЗДЕСЬ --\n",
        "logreg_predictions2 = log_regressor.predict_proba(X_test)\n",
        "logreg_predictions2"
      ]
    },
    {
      "cell_type": "markdown",
      "metadata": {
        "id": "Az6jw-DZl5Ga"
      },
      "source": [
        "### 4. Оценка качества модели"
      ]
    },
    {
      "cell_type": "markdown",
      "metadata": {
        "id": "lPLApJsOl5Ga"
      },
      "source": [
        "Посчитайте ```accuracy score``` модели на тестовых данных с помощью функции ```metrics.accuracy_score()```, передав в функцию настоящие и предсказанные метки"
      ]
    },
    {
      "cell_type": "code",
      "execution_count": null,
      "metadata": {
        "ExecuteTime": {
          "end_time": "2019-10-12T00:17:44.454766Z",
          "start_time": "2019-10-12T00:17:44.451226Z"
        },
        "id": "1S2oZ9vzl5Gb",
        "colab": {
          "base_uri": "https://localhost:8080/"
        },
        "outputId": "956912ea-d287-4702-8d5a-babe086f77df"
      },
      "outputs": [
        {
          "output_type": "execute_result",
          "data": {
            "text/plain": [
              "0.7666666666666667"
            ]
          },
          "metadata": {},
          "execution_count": 196
        }
      ],
      "source": [
        "from sklearn.metrics import accuracy_score\n",
        "accuracy_score(y_test,logreg_predictions)\n"
      ]
    },
    {
      "cell_type": "markdown",
      "metadata": {
        "id": "Yh5SYv3zl5Gb"
      },
      "source": [
        "### Как затем использовать эту модель, обученную в jupyter ноутбуке?"
      ]
    },
    {
      "cell_type": "markdown",
      "metadata": {
        "id": "2KJi6Rc0l5Gc"
      },
      "source": [
        "$$\n",
        "f(x) = sigmoid(w_0 + w_1 * x_1 + w_2 * x_2)\n",
        "$$\n",
        "$w_0, w_1$ и $w_2$ находим с помощью обучения модели"
      ]
    },
    {
      "cell_type": "code",
      "execution_count": null,
      "metadata": {
        "ExecuteTime": {
          "end_time": "2019-10-12T00:18:03.701209Z",
          "start_time": "2019-10-12T00:18:03.697580Z"
        },
        "id": "_pS6rftal5Gc",
        "outputId": "fb4cacf3-3415-4397-eb5e-0ef2809e147f",
        "colab": {
          "base_uri": "https://localhost:8080/"
        }
      },
      "outputs": [
        {
          "output_type": "stream",
          "name": "stdout",
          "text": [
            "Intercept [-2.98122841]\n",
            "Coefficient [[0.35044547 0.49158037]]\n"
          ]
        }
      ],
      "source": [
        "print('Intercept', log_regressor.intercept_) # w_o\n",
        "print('Coefficient', log_regressor.coef_) # w_1 and w_2"
      ]
    },
    {
      "cell_type": "markdown",
      "metadata": {
        "id": "sop1IqVpl5Gd"
      },
      "source": [
        "#### Наглядная визуализация логистической регрессии: https://florianhartl.com/logistic-regression-geometric-intuition.html"
      ]
    },
    {
      "cell_type": "markdown",
      "metadata": {
        "id": "ebQQL4fPl5Ge"
      },
      "source": [
        "####  Нарисуем границу принятия решения нашим классификатором"
      ]
    },
    {
      "cell_type": "code",
      "execution_count": null,
      "metadata": {
        "ExecuteTime": {
          "end_time": "2019-10-12T00:18:44.658971Z",
          "start_time": "2019-10-12T00:18:44.144219Z"
        },
        "id": "3eqluJaQl5Ge",
        "outputId": "3b347066-4255-4281-a985-4b6d8b184577",
        "colab": {
          "base_uri": "https://localhost:8080/",
          "height": 286
        }
      },
      "outputs": [
        {
          "output_type": "execute_result",
          "data": {
            "text/plain": [
              "<matplotlib.collections.PathCollection at 0x7f760e25cfd0>"
            ]
          },
          "metadata": {},
          "execution_count": 198
        },
        {
          "output_type": "display_data",
          "data": {
            "text/plain": [
              "<Figure size 432x288 with 1 Axes>"
            ],
            "image/png": "[encoded data removed]"
          },
          "metadata": {
            "needs_background": "light"
          }
        }
      ],
      "source": [
        "xx, yy = make_meshgrid(blobs[0][:, 0], blobs[0][:, 1])\n",
        "fig, sub = plt.subplots()\n",
        "plot_contours(sub, log_regressor, xx, yy)\n",
        "plt.scatter(x=df['feature_1'], y=df['feature_2'], c=df['target'], cmap='rainbow')"
      ]
    },
    {
      "cell_type": "markdown",
      "metadata": {
        "id": "DQe7bEerl5Ge"
      },
      "source": [
        "### Оценка качества модели по кросс-валидации"
      ]
    },
    {
      "cell_type": "markdown",
      "metadata": {
        "id": "r_H5RiPBl5Ge"
      },
      "source": [
        "#### cross_val_score"
      ]
    },
    {
      "cell_type": "markdown",
      "metadata": {
        "id": "FXlCJF9Rl5Gf"
      },
      "source": [
        "Посчитайте качество модели на кросс-валидации по 10 фолдам (параметр ```cv```) c метрикой ```accuracy``` (параметр ```scoring```) с помощью функции ```model_selection.cross_val_score```\n"
      ]
    },
    {
      "cell_type": "code",
      "execution_count": null,
      "metadata": {
        "ExecuteTime": {
          "end_time": "2019-10-12T00:19:02.264700Z",
          "start_time": "2019-10-12T00:19:02.244370Z"
        },
        "id": "IDwHrq0Vl5Gf",
        "colab": {
          "base_uri": "https://localhost:8080/"
        },
        "outputId": "49818cf1-a322-4bfd-f022-e24084d66636"
      },
      "outputs": [
        {
          "output_type": "execute_result",
          "data": {
            "text/plain": [
              "array([1.        , 1.        , 0.66666667, 0.66666667, 0.33333333,\n",
              "       0.66666667, 0.66666667, 0.66666667, 1.        , 0.66666667])"
            ]
          },
          "metadata": {},
          "execution_count": 199
        }
      ],
      "source": [
        "# -- НАПИШИТЕ ВАШ КОД ЗДЕСЬ --\n",
        "logreg_scoring = model_selection.cross_val_score(log_regressor, X_test, y_test, cv=10)\n",
        "logreg_scoring"
      ]
    },
    {
      "cell_type": "code",
      "execution_count": null,
      "metadata": {
        "ExecuteTime": {
          "end_time": "2019-10-12T00:19:19.533832Z",
          "start_time": "2019-10-12T00:19:19.530344Z"
        },
        "id": "pJHiKDQfl5Gi",
        "outputId": "668425d0-831f-4b2d-dc0e-4bdeb7aad5db",
        "colab": {
          "base_uri": "https://localhost:8080/"
        }
      },
      "outputs": [
        {
          "output_type": "stream",
          "name": "stdout",
          "text": [
            "Log mean:0.7333333333333333, max:1.0, min:0.3333333333333333, std:0.2\n"
          ]
        }
      ],
      "source": [
        "print('Log mean:{}, max:{}, min:{}, std:{}'.format(logreg_scoring.mean(),\n",
        "                                                   logreg_scoring.max(),\n",
        "                                                   logreg_scoring.min(),\n",
        "                                                   logreg_scoring.std()))"
      ]
    },
    {
      "cell_type": "code",
      "source": [
        "def sigmoid(z):\n",
        "    return 1 / (1 + np.exp(-z))"
      ],
      "metadata": {
        "id": "121oggg0pkot"
      },
      "execution_count": null,
      "outputs": []
    },
    {
      "cell_type": "code",
      "source": [
        "def cost(theta, X, y):\n",
        "    theta = np.matrix(theta)\n",
        "    X = np.matrix(X)\n",
        "    y = np.matrix(y)\n",
        "    first = np.multiply(-y, np.log(sigmoid(X * theta.T)))\n",
        "    second = np.multiply((1 - y), np.log(1 - sigmoid(X * theta.T)))\n",
        "    return np.sum(first - second) / (len(X))"
      ],
      "metadata": {
        "id": "qK-CE2jnpkkP"
      },
      "execution_count": null,
      "outputs": []
    },
    {
      "cell_type": "code",
      "source": [
        "## Добавим столбец с единичками - это упростит умножение матриц\n",
        "df.insert(0, 'Ones', 1)\n",
        "\n",
        "cols = df.shape[1]\n",
        "X = df.iloc[:,0:cols-1]  # обучающие данные\n",
        "y = df.iloc[:,cols-1:cols] # целевая переменная\n",
        "\n",
        "X = np.array(X.values)  # пребразуем в массив датафрейм\n",
        "y = np.array(y.values)\n",
        "theta = np.zeros(3)  #  создадим массив тетта с нулями"
      ],
      "metadata": {
        "id": "TRzAeGW_pkiJ"
      },
      "execution_count": null,
      "outputs": []
    },
    {
      "cell_type": "code",
      "source": [
        "X.shape, theta.shape, y.shape"
      ],
      "metadata": {
        "colab": {
          "base_uri": "https://localhost:8080/"
        },
        "id": "jS_r8Nw3pkft",
        "outputId": "752ac7f4-cd1e-429b-f9b7-cca3b73d1501"
      },
      "execution_count": null,
      "outputs": [
        {
          "output_type": "execute_result",
          "data": {
            "text/plain": [
              "((100, 3), (3,), (100, 1))"
            ]
          },
          "metadata": {},
          "execution_count": 204
        }
      ]
    },
    {
      "cell_type": "code",
      "source": [
        "cost(theta, X, y)"
      ],
      "metadata": {
        "colab": {
          "base_uri": "https://localhost:8080/"
        },
        "id": "As4lYMu7pkdE",
        "outputId": "8d1246da-ce03-4d84-d619-fd8af83c1ad4"
      },
      "execution_count": null,
      "outputs": [
        {
          "output_type": "execute_result",
          "data": {
            "text/plain": [
              "0.6931471805599453"
            ]
          },
          "metadata": {},
          "execution_count": 205
        }
      ]
    },
    {
      "cell_type": "code",
      "source": [
        "def gradient(theta, X, y):\n",
        "    theta = np.matrix(theta)\n",
        "    X = np.matrix(X)\n",
        "    y = np.matrix(y)\n",
        "\n",
        "    parameters = int(theta.ravel().shape[1])\n",
        "    grad = np.zeros(parameters)\n",
        "\n",
        "    error = sigmoid(X * theta.T) - y\n",
        "\n",
        "    for i in range(parameters):\n",
        "        term = np.multiply(error, X[:,i])\n",
        "        grad[i] = np.sum(term) / len(X)\n",
        "\n",
        "    return grad"
      ],
      "metadata": {
        "id": "qvWht754pkaM"
      },
      "execution_count": null,
      "outputs": []
    },
    {
      "cell_type": "code",
      "source": [
        "import scipy.optimize as opt\n",
        "result = opt.fmin_tnc(func=cost, x0=theta, fprime=gradient, args=(X, y))\n",
        "cost(result[0], X, y)"
      ],
      "metadata": {
        "colab": {
          "base_uri": "https://localhost:8080/"
        },
        "id": "4zWrSnQVpkWc",
        "outputId": "d8ca9dcc-ed04-4584-b1dc-899ca24734a9"
      },
      "execution_count": null,
      "outputs": [
        {
          "output_type": "execute_result",
          "data": {
            "text/plain": [
              "0.4432837117709144"
            ]
          },
          "metadata": {},
          "execution_count": 207
        }
      ]
    },
    {
      "cell_type": "code",
      "source": [
        "def predict(theta, X):\n",
        "    probability = sigmoid(X * theta.T)\n",
        "    return [1 if x >= 0.5 else 0 for x in probability]"
      ],
      "metadata": {
        "id": "F8J_okmgqwfF"
      },
      "execution_count": null,
      "outputs": []
    },
    {
      "cell_type": "code",
      "source": [
        "theta_min = np.matrix(result[0])\n",
        "predictions = predict(theta_min, X)\n",
        "correct = [1 if ((a == 1 and b == 1) or (a == 0 and b == 0)) else 0 for (a, b) in zip(predictions, y)]\n",
        "s = 0\n",
        "for i in correct:\n",
        "  s+=(i/len(correct))\n",
        "print('accuracy = {0}%'.format(int(s*100)))"
      ],
      "metadata": {
        "colab": {
          "base_uri": "https://localhost:8080/"
        },
        "id": "boUIlbXqqzWc",
        "outputId": "171678a6-0452-4e9e-d5b4-e025ede2c16c"
      },
      "execution_count": null,
      "outputs": [
        {
          "output_type": "stream",
          "name": "stdout",
          "text": [
            "accuracy = 81%\n"
          ]
        }
      ]
    }
  ],
  "metadata": {
    "kernelspec": {
      "display_name": "Python 3 (ipykernel)",
      "language": "python",
      "name": "python3"
    },
    "language_info": {
      "codemirror_mode": {
        "name": "ipython",
        "version": 3
      },
      "file_extension": ".py",
      "mimetype": "text/x-python",
      "name": "python",
      "nbconvert_exporter": "python",
      "pygments_lexer": "ipython3",
      "version": "3.10.8"
    },
    "toc": {
      "base_numbering": 1,
      "nav_menu": {},
      "number_sections": true,
      "sideBar": true,
      "skip_h1_title": false,
      "title_cell": "Table of Contents",
      "title_sidebar": "Contents",
      "toc_cell": false,
      "toc_position": {},
      "toc_section_display": true,
      "toc_window_display": false
    },
    "colab": {
      "provenance": []
    }
  },
  "nbformat": 4,
  "nbformat_minor": 0
}